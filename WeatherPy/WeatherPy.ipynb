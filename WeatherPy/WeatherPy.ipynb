{
 "cells": [
  {
   "cell_type": "markdown",
   "metadata": {},
   "source": [
    "# WeatherPy\n",
    "----\n",
    "\n",
    "#### Note\n",
    "* Instructions have been included for each segment. You do not have to follow them exactly, but they are included to help you think through the steps."
   ]
  },
  {
   "cell_type": "markdown",
   "metadata": {},
   "source": [
    "### Import dependencies"
   ]
  },
  {
   "cell_type": "code",
   "execution_count": 1,
   "metadata": {
    "scrolled": true
   },
   "outputs": [],
   "source": [
    "import numpy as np\n",
    "import pandas as pd\n",
    "import matplotlib.pyplot as plt\n",
    "from citipy import citipy\n",
    "import requests\n",
    "from api_keys import weather_api_key"
   ]
  },
  {
   "cell_type": "markdown",
   "metadata": {},
   "source": [
    "### Import API Keys"
   ]
  },
  {
   "cell_type": "markdown",
   "metadata": {},
   "source": [
    "## Generate Cities List"
   ]
  },
  {
   "cell_type": "markdown",
   "metadata": {},
   "source": [
    "Generate a list of unique cities based on a random latitude and longitude and using citypy library"
   ]
  },
  {
   "cell_type": "code",
   "execution_count": 2,
   "metadata": {},
   "outputs": [
    {
     "name": "stdout",
     "output_type": "stream",
     "text": [
      "List of cities has 5 cities.\n"
     ]
    }
   ],
   "source": [
    "# Size of the list of cities\n",
    "num_cities = 5\n",
    "latitude_max = 90\n",
    "longitude_max = 180\n",
    "\n",
    "cities_list = []\n",
    "country_list = []\n",
    "lat_list = []\n",
    "lng_list = []\n",
    "\n",
    "\n",
    "while len(cities_list) < num_cities:\n",
    "    \n",
    "    # Generate a random latitude using numpy random array multiplied by 90 that is the maximum for latitude\n",
    "    # and multiple by a random +1 or -1 to give the North or South from Equator\n",
    "    lat_random = ((latitude_max*np.random.rand(1,1))*(np.random.randint(2, size=1)*2-1))\n",
    "\n",
    "    # Generate a random longitude using numpy random array multiplied by 180 that is the maximum for longitude\n",
    "    # and multiple by a random +1 or -1 to give the East or West from Greenwich\n",
    "    lon_random = ((longitude_max*np.random.rand(1,1))*(np.random.randint(2, size=1)*2-1))\n",
    "\n",
    "    # Create a list of cities based on the random coordinates and using the citypy library\n",
    "    city = citipy.nearest_city(lat_random[0][0], lon_random[0][0])\n",
    "    new_city = city.city_name.title()\n",
    "    new_city_country = city.country_code.upper()\n",
    "    \n",
    "\n",
    "    # Logical test to verify if the city is already include in the list or not\n",
    "    if new_city not in cities_list:\n",
    "        cities_list.append(new_city)\n",
    "        country_list.append(new_city_country)\n",
    "        lat_list.append(lat_random[0][0])\n",
    "        lng_list.append(lon_random[0][0])\n",
    "\n",
    "        \n",
    "print(f'List of cities has {len(cities_list)} cities.')"
   ]
  },
  {
   "cell_type": "code",
   "execution_count": 3,
   "metadata": {},
   "outputs": [
    {
     "data": {
      "text/html": [
       "<div>\n",
       "<style scoped>\n",
       "    .dataframe tbody tr th:only-of-type {\n",
       "        vertical-align: middle;\n",
       "    }\n",
       "\n",
       "    .dataframe tbody tr th {\n",
       "        vertical-align: top;\n",
       "    }\n",
       "\n",
       "    .dataframe thead th {\n",
       "        text-align: right;\n",
       "    }\n",
       "</style>\n",
       "<table border=\"1\" class=\"dataframe\">\n",
       "  <thead>\n",
       "    <tr style=\"text-align: right;\">\n",
       "      <th></th>\n",
       "      <th>City</th>\n",
       "      <th>Lat</th>\n",
       "      <th>Lng</th>\n",
       "      <th>Max Temp</th>\n",
       "      <th>Humidity</th>\n",
       "      <th>Cloudiness</th>\n",
       "      <th>Wind Speed</th>\n",
       "      <th>Country</th>\n",
       "      <th>Date</th>\n",
       "    </tr>\n",
       "  </thead>\n",
       "  <tbody>\n",
       "    <tr>\n",
       "      <th>0</th>\n",
       "      <td>Acari</td>\n",
       "      <td>-18.186235</td>\n",
       "      <td>-75.420501</td>\n",
       "      <td></td>\n",
       "      <td></td>\n",
       "      <td></td>\n",
       "      <td></td>\n",
       "      <td>PE</td>\n",
       "      <td></td>\n",
       "    </tr>\n",
       "    <tr>\n",
       "      <th>1</th>\n",
       "      <td>Kapaa</td>\n",
       "      <td>17.459679</td>\n",
       "      <td>-162.974279</td>\n",
       "      <td></td>\n",
       "      <td></td>\n",
       "      <td></td>\n",
       "      <td></td>\n",
       "      <td>US</td>\n",
       "      <td></td>\n",
       "    </tr>\n",
       "    <tr>\n",
       "      <th>2</th>\n",
       "      <td>Srednekolymsk</td>\n",
       "      <td>69.031643</td>\n",
       "      <td>152.304190</td>\n",
       "      <td></td>\n",
       "      <td></td>\n",
       "      <td></td>\n",
       "      <td></td>\n",
       "      <td>RU</td>\n",
       "      <td></td>\n",
       "    </tr>\n",
       "    <tr>\n",
       "      <th>3</th>\n",
       "      <td>Dumai</td>\n",
       "      <td>1.479147</td>\n",
       "      <td>101.564848</td>\n",
       "      <td></td>\n",
       "      <td></td>\n",
       "      <td></td>\n",
       "      <td></td>\n",
       "      <td>ID</td>\n",
       "      <td></td>\n",
       "    </tr>\n",
       "    <tr>\n",
       "      <th>4</th>\n",
       "      <td>Qandala</td>\n",
       "      <td>11.577472</td>\n",
       "      <td>49.782101</td>\n",
       "      <td></td>\n",
       "      <td></td>\n",
       "      <td></td>\n",
       "      <td></td>\n",
       "      <td>SO</td>\n",
       "      <td></td>\n",
       "    </tr>\n",
       "  </tbody>\n",
       "</table>\n",
       "</div>"
      ],
      "text/plain": [
       "            City        Lat         Lng Max Temp Humidity Cloudiness  \\\n",
       "0          Acari -18.186235  -75.420501                                \n",
       "1          Kapaa  17.459679 -162.974279                                \n",
       "2  Srednekolymsk  69.031643  152.304190                                \n",
       "3          Dumai   1.479147  101.564848                                \n",
       "4        Qandala  11.577472   49.782101                                \n",
       "\n",
       "  Wind Speed Country Date  \n",
       "0                 PE       \n",
       "1                 US       \n",
       "2                 RU       \n",
       "3                 ID       \n",
       "4                 SO       "
      ]
     },
     "execution_count": 3,
     "metadata": {},
     "output_type": "execute_result"
    }
   ],
   "source": [
    "# Create a dataframe with the random latitude and longitude\n",
    "\n",
    "cities_df = pd.DataFrame({'City':cities_list,\n",
    "                          'Lat':lat_list,\n",
    "                          'Lng':lng_list,\n",
    "                          'Max Temp':'',\n",
    "                          'Humidity':'',\n",
    "                          'Cloudiness':'',\n",
    "                          'Wind Speed':'',\n",
    "                          'Country':country_list,\n",
    "                          'Date':''})\n",
    "\n",
    "cities_df"
   ]
  },
  {
   "cell_type": "code",
   "execution_count": 4,
   "metadata": {},
   "outputs": [
    {
     "name": "stdout",
     "output_type": "stream",
     "text": [
      "The list of cities has 5 unique cities.\n"
     ]
    }
   ],
   "source": [
    "# Double check if the list only has unique cities\n",
    "print(f\"The list of cities has {len(cities_df['City'].unique())} unique cities.\")\n"
   ]
  },
  {
   "cell_type": "code",
   "execution_count": 5,
   "metadata": {},
   "outputs": [
    {
     "data": {
      "image/png": "[encoded data removed]",
      "text/plain": [
       "<Figure size 432x288 with 1 Axes>"
      ]
     },
     "metadata": {
      "needs_background": "light"
     },
     "output_type": "display_data"
    }
   ],
   "source": [
    "# Generate a scatterplot of the random coordinates.\n",
    "# Note that coordinates looks to be evenly distributed.\n",
    "# since the numpy random number distribution has uniform distribution\n",
    "\n",
    "plt.scatter(x=cities_df['Lng'], y=cities_df['Lat'])\n",
    "plt.title('distribution of cities random generated'.title())\n",
    "plt.xlabel('Longitude')\n",
    "plt.ylabel('Latitude');"
   ]
  },
  {
   "cell_type": "markdown",
   "metadata": {},
   "source": [
    "### Perform API Calls\n",
    "* Perform a weather check on each city using a series of successive API calls.\n",
    "* Include a print log of each city as it'sbeing processed (with the city number and city name).\n"
   ]
  },
  {
   "cell_type": "code",
   "execution_count": 6,
   "metadata": {
    "scrolled": true
   },
   "outputs": [
    {
     "name": "stdout",
     "output_type": "stream",
     "text": [
      "Processing Record 0 of 5 | Acari\n",
      "Processing Record 1 of 5 | Kapaa\n",
      "Processing Record 2 of 5 | Srednekolymsk\n",
      "Processing Record 3 of 5 | Dumai\n",
      "Processing Record 4 of 5 | Qandala\n"
     ]
    }
   ],
   "source": [
    "# Save config information.\n",
    "url = \"http://api.openweathermap.org/data/2.5/weather?\"\n",
    "units = \"imperial\"\n",
    "\n",
    "# Build partial query URL\n",
    "query_url = f\"{url}appid={weather_api_key}&units={units}&q=\"\n",
    "\n",
    "\n",
    "# set up lists to hold reponse info\n",
    "hum = []\n",
    "max_temp = []\n",
    "cloudiness = []\n",
    "wind_speed = []\n",
    "time_data_calculation = []\n",
    "n = 0\n",
    "\n",
    "# Loop through the list of cities and perform a request for data on each\n",
    "for city in cities_df['City']:\n",
    "    response = requests.get(query_url + city).json()\n",
    "    print(f\"Processing Record {n} of {len(cities_df['City'])} | {city}\")\n",
    "    hum.append(response['main']['humidity'])\n",
    "    max_temp.append(response['main']['temp_max'])\n",
    "    cloudiness.append(response['clouds']['all'])\n",
    "    wind_speed.append(response['wind']['speed'])\n",
    "    time_data_calculation.append(response['dt'])\n",
    "    n += 1\n"
   ]
  },
  {
   "cell_type": "code",
   "execution_count": 7,
   "metadata": {},
   "outputs": [],
   "source": [
    "# Update the dataframe with the data colected from the API for Max Temp, Humidity, Cloudiness, Wind Speed, Date\n",
    "cities_df['Max Temp'] = max_temp\n",
    "cities_df['Humidity'] = hum\n",
    "cities_df['Cloudiness'] = cloudiness\n",
    "cities_df['Wind Speed'] = wind_speed\n",
    "cities_df['Date'] = time_data_calculation"
   ]
  },
  {
   "cell_type": "markdown",
   "metadata": {},
   "source": [
    "### Convert Raw Data to DataFrame\n",
    "* Export the city data into a .csv.\n",
    "* Display the DataFrame"
   ]
  },
  {
   "cell_type": "code",
   "execution_count": 8,
   "metadata": {},
   "outputs": [],
   "source": [
    "cities_df.to_csv('data/city_weather.csv')"
   ]
  },
  {
   "cell_type": "code",
   "execution_count": 9,
   "metadata": {},
   "outputs": [
    {
     "data": {
      "text/html": [
       "<div>\n",
       "<style scoped>\n",
       "    .dataframe tbody tr th:only-of-type {\n",
       "        vertical-align: middle;\n",
       "    }\n",
       "\n",
       "    .dataframe tbody tr th {\n",
       "        vertical-align: top;\n",
       "    }\n",
       "\n",
       "    .dataframe thead th {\n",
       "        text-align: right;\n",
       "    }\n",
       "</style>\n",
       "<table border=\"1\" class=\"dataframe\">\n",
       "  <thead>\n",
       "    <tr style=\"text-align: right;\">\n",
       "      <th></th>\n",
       "      <th>City</th>\n",
       "      <th>Lat</th>\n",
       "      <th>Lng</th>\n",
       "      <th>Max Temp</th>\n",
       "      <th>Humidity</th>\n",
       "      <th>Cloudiness</th>\n",
       "      <th>Wind Speed</th>\n",
       "      <th>Country</th>\n",
       "      <th>Date</th>\n",
       "    </tr>\n",
       "  </thead>\n",
       "  <tbody>\n",
       "    <tr>\n",
       "      <th>0</th>\n",
       "      <td>Acari</td>\n",
       "      <td>-18.186235</td>\n",
       "      <td>-75.420501</td>\n",
       "      <td>61.68</td>\n",
       "      <td>60</td>\n",
       "      <td>32</td>\n",
       "      <td>2.86</td>\n",
       "      <td>PE</td>\n",
       "      <td>1599887879</td>\n",
       "    </tr>\n",
       "    <tr>\n",
       "      <th>1</th>\n",
       "      <td>Kapaa</td>\n",
       "      <td>17.459679</td>\n",
       "      <td>-162.974279</td>\n",
       "      <td>82.40</td>\n",
       "      <td>69</td>\n",
       "      <td>90</td>\n",
       "      <td>14.99</td>\n",
       "      <td>US</td>\n",
       "      <td>1599887879</td>\n",
       "    </tr>\n",
       "    <tr>\n",
       "      <th>2</th>\n",
       "      <td>Srednekolymsk</td>\n",
       "      <td>69.031643</td>\n",
       "      <td>152.304190</td>\n",
       "      <td>57.04</td>\n",
       "      <td>42</td>\n",
       "      <td>0</td>\n",
       "      <td>3.60</td>\n",
       "      <td>RU</td>\n",
       "      <td>1599887881</td>\n",
       "    </tr>\n",
       "    <tr>\n",
       "      <th>3</th>\n",
       "      <td>Dumai</td>\n",
       "      <td>1.479147</td>\n",
       "      <td>101.564848</td>\n",
       "      <td>85.15</td>\n",
       "      <td>79</td>\n",
       "      <td>43</td>\n",
       "      <td>2.10</td>\n",
       "      <td>ID</td>\n",
       "      <td>1599887884</td>\n",
       "    </tr>\n",
       "    <tr>\n",
       "      <th>4</th>\n",
       "      <td>Qandala</td>\n",
       "      <td>11.577472</td>\n",
       "      <td>49.782101</td>\n",
       "      <td>90.12</td>\n",
       "      <td>52</td>\n",
       "      <td>13</td>\n",
       "      <td>4.54</td>\n",
       "      <td>SO</td>\n",
       "      <td>1599887885</td>\n",
       "    </tr>\n",
       "  </tbody>\n",
       "</table>\n",
       "</div>"
      ],
      "text/plain": [
       "            City        Lat         Lng  Max Temp  Humidity  Cloudiness  \\\n",
       "0          Acari -18.186235  -75.420501     61.68        60          32   \n",
       "1          Kapaa  17.459679 -162.974279     82.40        69          90   \n",
       "2  Srednekolymsk  69.031643  152.304190     57.04        42           0   \n",
       "3          Dumai   1.479147  101.564848     85.15        79          43   \n",
       "4        Qandala  11.577472   49.782101     90.12        52          13   \n",
       "\n",
       "   Wind Speed Country        Date  \n",
       "0        2.86      PE  1599887879  \n",
       "1       14.99      US  1599887879  \n",
       "2        3.60      RU  1599887881  \n",
       "3        2.10      ID  1599887884  \n",
       "4        4.54      SO  1599887885  "
      ]
     },
     "execution_count": 9,
     "metadata": {},
     "output_type": "execute_result"
    }
   ],
   "source": [
    "cities_df"
   ]
  },
  {
   "cell_type": "markdown",
   "metadata": {},
   "source": [
    "## Inspect the data and remove the cities where the humidity > 100%.\n",
    "----\n",
    "Skip this step if there are no cities that have humidity > 100%. "
   ]
  },
  {
   "cell_type": "code",
   "execution_count": 10,
   "metadata": {},
   "outputs": [
    {
     "data": {
      "text/plain": [
       "3    79\n",
       "Name: Humidity, dtype: int64"
      ]
     },
     "execution_count": 10,
     "metadata": {},
     "output_type": "execute_result"
    }
   ],
   "source": [
    "filter_hum = cities_df['Humidity'].loc[cities_df['Humidity'] > 100]\n",
    "filter_hum"
   ]
  },
  {
   "cell_type": "code",
   "execution_count": 11,
   "metadata": {},
   "outputs": [
    {
     "data": {
      "text/plain": [
       "Int64Index([3], dtype='int64')"
      ]
     },
     "execution_count": 11,
     "metadata": {},
     "output_type": "execute_result"
    }
   ],
   "source": [
    "#  Get the indices of cities that have humidity over 100%.\n",
    "indexes_hum = filter_hum.keys()\n",
    "indexes_hum"
   ]
  },
  {
   "cell_type": "code",
   "execution_count": 12,
   "metadata": {},
   "outputs": [
    {
     "data": {
      "text/html": [
       "<div>\n",
       "<style scoped>\n",
       "    .dataframe tbody tr th:only-of-type {\n",
       "        vertical-align: middle;\n",
       "    }\n",
       "\n",
       "    .dataframe tbody tr th {\n",
       "        vertical-align: top;\n",
       "    }\n",
       "\n",
       "    .dataframe thead th {\n",
       "        text-align: right;\n",
       "    }\n",
       "</style>\n",
       "<table border=\"1\" class=\"dataframe\">\n",
       "  <thead>\n",
       "    <tr style=\"text-align: right;\">\n",
       "      <th></th>\n",
       "      <th>City</th>\n",
       "      <th>Lat</th>\n",
       "      <th>Lng</th>\n",
       "      <th>Max Temp</th>\n",
       "      <th>Humidity</th>\n",
       "      <th>Cloudiness</th>\n",
       "      <th>Wind Speed</th>\n",
       "      <th>Country</th>\n",
       "      <th>Date</th>\n",
       "    </tr>\n",
       "  </thead>\n",
       "  <tbody>\n",
       "    <tr>\n",
       "      <th>0</th>\n",
       "      <td>Acari</td>\n",
       "      <td>-18.186235</td>\n",
       "      <td>-75.420501</td>\n",
       "      <td>61.68</td>\n",
       "      <td>60</td>\n",
       "      <td>32</td>\n",
       "      <td>2.86</td>\n",
       "      <td>PE</td>\n",
       "      <td>1599887879</td>\n",
       "    </tr>\n",
       "    <tr>\n",
       "      <th>1</th>\n",
       "      <td>Kapaa</td>\n",
       "      <td>17.459679</td>\n",
       "      <td>-162.974279</td>\n",
       "      <td>82.40</td>\n",
       "      <td>69</td>\n",
       "      <td>90</td>\n",
       "      <td>14.99</td>\n",
       "      <td>US</td>\n",
       "      <td>1599887879</td>\n",
       "    </tr>\n",
       "    <tr>\n",
       "      <th>2</th>\n",
       "      <td>Srednekolymsk</td>\n",
       "      <td>69.031643</td>\n",
       "      <td>152.304190</td>\n",
       "      <td>57.04</td>\n",
       "      <td>42</td>\n",
       "      <td>0</td>\n",
       "      <td>3.60</td>\n",
       "      <td>RU</td>\n",
       "      <td>1599887881</td>\n",
       "    </tr>\n",
       "    <tr>\n",
       "      <th>3</th>\n",
       "      <td>Dumai</td>\n",
       "      <td>1.479147</td>\n",
       "      <td>101.564848</td>\n",
       "      <td>85.15</td>\n",
       "      <td>79</td>\n",
       "      <td>43</td>\n",
       "      <td>2.10</td>\n",
       "      <td>ID</td>\n",
       "      <td>1599887884</td>\n",
       "    </tr>\n",
       "    <tr>\n",
       "      <th>4</th>\n",
       "      <td>Qandala</td>\n",
       "      <td>11.577472</td>\n",
       "      <td>49.782101</td>\n",
       "      <td>90.12</td>\n",
       "      <td>52</td>\n",
       "      <td>13</td>\n",
       "      <td>4.54</td>\n",
       "      <td>SO</td>\n",
       "      <td>1599887885</td>\n",
       "    </tr>\n",
       "  </tbody>\n",
       "</table>\n",
       "</div>"
      ],
      "text/plain": [
       "            City        Lat         Lng  Max Temp  Humidity  Cloudiness  \\\n",
       "0          Acari -18.186235  -75.420501     61.68        60          32   \n",
       "1          Kapaa  17.459679 -162.974279     82.40        69          90   \n",
       "2  Srednekolymsk  69.031643  152.304190     57.04        42           0   \n",
       "3          Dumai   1.479147  101.564848     85.15        79          43   \n",
       "4        Qandala  11.577472   49.782101     90.12        52          13   \n",
       "\n",
       "   Wind Speed Country        Date  \n",
       "0        2.86      PE  1599887879  \n",
       "1       14.99      US  1599887879  \n",
       "2        3.60      RU  1599887881  \n",
       "3        2.10      ID  1599887884  \n",
       "4        4.54      SO  1599887885  "
      ]
     },
     "execution_count": 12,
     "metadata": {},
     "output_type": "execute_result"
    }
   ],
   "source": [
    "# Make a new DataFrame equal to the city data to drop all humidity outliers by index.\n",
    "# Passing \"inplace=False\" will make a copy of the city_data DataFrame, which we call \"clean_city_data\".\n",
    "clean_city_data = cities_df\n",
    "clean_city_data.drop(clean_city_data.iloc[indexes_hum].index, inplace=True)\n",
    "clean_city_data"
   ]
  },
  {
   "cell_type": "markdown",
   "metadata": {},
   "source": [
    "## Plotting the Data\n",
    "* Use proper labeling of the plots using plot titles (including date of analysis) and axes labels.\n",
    "* Save the plotted figures as .pngs."
   ]
  },
  {
   "cell_type": "markdown",
   "metadata": {},
   "source": [
    "## Latitude vs. Temperature Plot"
   ]
  },
  {
   "cell_type": "code",
   "execution_count": null,
   "metadata": {
    "scrolled": true
   },
   "outputs": [],
   "source": []
  },
  {
   "cell_type": "markdown",
   "metadata": {},
   "source": [
    "## Latitude vs. Humidity Plot"
   ]
  },
  {
   "cell_type": "code",
   "execution_count": null,
   "metadata": {},
   "outputs": [],
   "source": []
  },
  {
   "cell_type": "markdown",
   "metadata": {},
   "source": [
    "## Latitude vs. Cloudiness Plot"
   ]
  },
  {
   "cell_type": "code",
   "execution_count": null,
   "metadata": {},
   "outputs": [],
   "source": []
  },
  {
   "cell_type": "markdown",
   "metadata": {},
   "source": [
    "## Latitude vs. Wind Speed Plot"
   ]
  },
  {
   "cell_type": "code",
   "execution_count": null,
   "metadata": {},
   "outputs": [],
   "source": []
  },
  {
   "cell_type": "markdown",
   "metadata": {},
   "source": [
    "## Linear Regression"
   ]
  },
  {
   "cell_type": "code",
   "execution_count": null,
   "metadata": {},
   "outputs": [],
   "source": []
  },
  {
   "cell_type": "markdown",
   "metadata": {},
   "source": [
    "####  Northern Hemisphere - Max Temp vs. Latitude Linear Regression"
   ]
  },
  {
   "cell_type": "code",
   "execution_count": null,
   "metadata": {},
   "outputs": [],
   "source": []
  },
  {
   "cell_type": "markdown",
   "metadata": {},
   "source": [
    "####  Southern Hemisphere - Max Temp vs. Latitude Linear Regression"
   ]
  },
  {
   "cell_type": "code",
   "execution_count": null,
   "metadata": {},
   "outputs": [],
   "source": []
  },
  {
   "cell_type": "markdown",
   "metadata": {},
   "source": [
    "####  Northern Hemisphere - Humidity (%) vs. Latitude Linear Regression"
   ]
  },
  {
   "cell_type": "code",
   "execution_count": null,
   "metadata": {},
   "outputs": [],
   "source": []
  },
  {
   "cell_type": "markdown",
   "metadata": {},
   "source": [
    "####  Southern Hemisphere - Humidity (%) vs. Latitude Linear Regression"
   ]
  },
  {
   "cell_type": "code",
   "execution_count": null,
   "metadata": {},
   "outputs": [],
   "source": []
  },
  {
   "cell_type": "markdown",
   "metadata": {},
   "source": [
    "####  Northern Hemisphere - Cloudiness (%) vs. Latitude Linear Regression"
   ]
  },
  {
   "cell_type": "code",
   "execution_count": null,
   "metadata": {},
   "outputs": [],
   "source": []
  },
  {
   "cell_type": "markdown",
   "metadata": {},
   "source": [
    "####  Southern Hemisphere - Cloudiness (%) vs. Latitude Linear Regression"
   ]
  },
  {
   "cell_type": "code",
   "execution_count": null,
   "metadata": {},
   "outputs": [],
   "source": []
  },
  {
   "cell_type": "markdown",
   "metadata": {},
   "source": [
    "####  Northern Hemisphere - Wind Speed (mph) vs. Latitude Linear Regression"
   ]
  },
  {
   "cell_type": "code",
   "execution_count": null,
   "metadata": {},
   "outputs": [],
   "source": []
  },
  {
   "cell_type": "markdown",
   "metadata": {},
   "source": [
    "####  Southern Hemisphere - Wind Speed (mph) vs. Latitude Linear Regression"
   ]
  },
  {
   "cell_type": "code",
   "execution_count": null,
   "metadata": {},
   "outputs": [],
   "source": []
  },
  {
   "cell_type": "code",
   "execution_count": null,
   "metadata": {},
   "outputs": [],
   "source": []
  }
 ],
 "metadata": {
  "anaconda-cloud": {},
  "kernel_info": {
   "name": "python3"
  },
  "kernelspec": {
   "display_name": "Python 3",
   "language": "python",
   "name": "python3"
  },
  "language_info": {
   "codemirror_mode": {
    "name": "ipython",
    "version": 3
   },
   "file_extension": ".py",
   "mimetype": "text/x-python",
   "name": "python",
   "nbconvert_exporter": "python",
   "pygments_lexer": "ipython3",
   "version": "3.7.6"
  },
  "latex_envs": {
   "LaTeX_envs_menu_present": true,
   "autoclose": false,
   "autocomplete": true,
   "bibliofile": "biblio.bib",
   "cite_by": "apalike",
   "current_citInitial": 1,
   "eqLabelWithNumbers": true,
   "eqNumInitial": 1,
   "hotkeys": {
    "equation": "Ctrl-E",
    "itemize": "Ctrl-I"
   },
   "labels_anchors": false,
   "latex_user_defs": false,
   "report_style_numbering": false,
   "user_envs_cfg": false
  },
  "nteract": {
   "version": "0.12.3"
  }
 },
 "nbformat": 4,
 "nbformat_minor": 2
}
