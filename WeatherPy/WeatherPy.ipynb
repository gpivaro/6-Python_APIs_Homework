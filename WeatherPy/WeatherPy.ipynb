{
 "cells": [
  {
   "cell_type": "markdown",
   "metadata": {},
   "source": [
    "# WeatherPy\n",
    "----\n",
    "\n",
    "#### Note\n",
    "* Instructions have been included for each segment. You do not have to follow them exactly, but they are included to help you think through the steps."
   ]
  },
  {
   "cell_type": "markdown",
   "metadata": {},
   "source": [
    "### Import dependencies"
   ]
  },
  {
   "cell_type": "code",
   "execution_count": 20,
   "metadata": {
    "scrolled": true
   },
   "outputs": [],
   "source": [
    "import numpy as np\n",
    "import pandas as pd\n",
    "import matplotlib.pyplot as plt\n",
    "from citipy import citipy\n",
    "import requests\n",
    "from api_keys import weather_api_key\n",
    "from scipy.stats import linregress"
   ]
  },
  {
   "cell_type": "markdown",
   "metadata": {},
   "source": [
    "### Import API Keys"
   ]
  },
  {
   "cell_type": "markdown",
   "metadata": {},
   "source": [
    "## Generate Cities List"
   ]
  },
  {
   "cell_type": "markdown",
   "metadata": {},
   "source": [
    "Generate a list of unique cities based on a random latitude and longitude and using citypy library"
   ]
  },
  {
   "cell_type": "code",
   "execution_count": 2,
   "metadata": {},
   "outputs": [
    {
     "name": "stdout",
     "output_type": "stream",
     "text": [
      "List of cities has 500 cities.\n"
     ]
    }
   ],
   "source": [
    "# Size of the list of cities\n",
    "num_cities = 600\n",
    "latitude_max = 90\n",
    "longitude_max = 180\n",
    "\n",
    "cities_list = []\n",
    "country_list = []\n",
    "lat_list = []\n",
    "lng_list = []\n",
    "\n",
    "\n",
    "while len(cities_list) < num_cities:\n",
    "    \n",
    "    # Generate a random latitude using numpy random array multiplied by 90 that is the maximum for latitude\n",
    "    # and multiple by a random +1 or -1 to give the North or South from Equator\n",
    "    lat_random = ((latitude_max*np.random.rand(1,1))*(np.random.randint(2, size=1)*2-1))\n",
    "\n",
    "    # Generate a random longitude using numpy random array multiplied by 180 that is the maximum for longitude\n",
    "    # and multiple by a random +1 or -1 to give the East or West from Greenwich\n",
    "    lon_random = ((longitude_max*np.random.rand(1,1))*(np.random.randint(2, size=1)*2-1))\n",
    "\n",
    "    # Create a list of cities based on the random coordinates and using the citypy library\n",
    "    city = citipy.nearest_city(lat_random[0][0], lon_random[0][0])\n",
    "    new_city = city.city_name.title()\n",
    "    new_city_country = city.country_code.upper()\n",
    "    \n",
    "\n",
    "    # Logical test to verify if the city is already include in the list or not\n",
    "    if new_city not in cities_list:\n",
    "        cities_list.append(new_city)\n",
    "        country_list.append(new_city_country)\n",
    "        lat_list.append(lat_random[0][0])\n",
    "        lng_list.append(lon_random[0][0])\n",
    "\n",
    "        \n",
    "print(f'List of cities has {len(cities_list)} cities.')"
   ]
  },
  {
   "cell_type": "code",
   "execution_count": 3,
   "metadata": {},
   "outputs": [
    {
     "data": {
      "text/html": [
       "<div>\n",
       "<style scoped>\n",
       "    .dataframe tbody tr th:only-of-type {\n",
       "        vertical-align: middle;\n",
       "    }\n",
       "\n",
       "    .dataframe tbody tr th {\n",
       "        vertical-align: top;\n",
       "    }\n",
       "\n",
       "    .dataframe thead th {\n",
       "        text-align: right;\n",
       "    }\n",
       "</style>\n",
       "<table border=\"1\" class=\"dataframe\">\n",
       "  <thead>\n",
       "    <tr style=\"text-align: right;\">\n",
       "      <th></th>\n",
       "      <th>City</th>\n",
       "      <th>Lat</th>\n",
       "      <th>Lng</th>\n",
       "      <th>Max Temp</th>\n",
       "      <th>Humidity</th>\n",
       "      <th>Cloudiness</th>\n",
       "      <th>Wind Speed</th>\n",
       "      <th>Country</th>\n",
       "      <th>Date</th>\n",
       "    </tr>\n",
       "  </thead>\n",
       "  <tbody>\n",
       "    <tr>\n",
       "      <th>0</th>\n",
       "      <td>Beringovskiy</td>\n",
       "      <td>58.625762</td>\n",
       "      <td>176.203495</td>\n",
       "      <td></td>\n",
       "      <td></td>\n",
       "      <td></td>\n",
       "      <td></td>\n",
       "      <td>RU</td>\n",
       "      <td></td>\n",
       "    </tr>\n",
       "    <tr>\n",
       "      <th>1</th>\n",
       "      <td>Aklavik</td>\n",
       "      <td>69.782282</td>\n",
       "      <td>-141.846280</td>\n",
       "      <td></td>\n",
       "      <td></td>\n",
       "      <td></td>\n",
       "      <td></td>\n",
       "      <td>CA</td>\n",
       "      <td></td>\n",
       "    </tr>\n",
       "    <tr>\n",
       "      <th>2</th>\n",
       "      <td>Cape Town</td>\n",
       "      <td>-69.301637</td>\n",
       "      <td>-13.693385</td>\n",
       "      <td></td>\n",
       "      <td></td>\n",
       "      <td></td>\n",
       "      <td></td>\n",
       "      <td>ZA</td>\n",
       "      <td></td>\n",
       "    </tr>\n",
       "    <tr>\n",
       "      <th>3</th>\n",
       "      <td>Podgornoye</td>\n",
       "      <td>57.075690</td>\n",
       "      <td>82.834095</td>\n",
       "      <td></td>\n",
       "      <td></td>\n",
       "      <td></td>\n",
       "      <td></td>\n",
       "      <td>RU</td>\n",
       "      <td></td>\n",
       "    </tr>\n",
       "    <tr>\n",
       "      <th>4</th>\n",
       "      <td>Kloulklubed</td>\n",
       "      <td>7.161880</td>\n",
       "      <td>134.039925</td>\n",
       "      <td></td>\n",
       "      <td></td>\n",
       "      <td></td>\n",
       "      <td></td>\n",
       "      <td>PW</td>\n",
       "      <td></td>\n",
       "    </tr>\n",
       "    <tr>\n",
       "      <th>...</th>\n",
       "      <td>...</td>\n",
       "      <td>...</td>\n",
       "      <td>...</td>\n",
       "      <td>...</td>\n",
       "      <td>...</td>\n",
       "      <td>...</td>\n",
       "      <td>...</td>\n",
       "      <td>...</td>\n",
       "      <td>...</td>\n",
       "    </tr>\n",
       "    <tr>\n",
       "      <th>495</th>\n",
       "      <td>Coihaique</td>\n",
       "      <td>-46.032328</td>\n",
       "      <td>-72.121083</td>\n",
       "      <td></td>\n",
       "      <td></td>\n",
       "      <td></td>\n",
       "      <td></td>\n",
       "      <td>CL</td>\n",
       "      <td></td>\n",
       "    </tr>\n",
       "    <tr>\n",
       "      <th>496</th>\n",
       "      <td>Ust-Barguzin</td>\n",
       "      <td>53.449393</td>\n",
       "      <td>108.892341</td>\n",
       "      <td></td>\n",
       "      <td></td>\n",
       "      <td></td>\n",
       "      <td></td>\n",
       "      <td>RU</td>\n",
       "      <td></td>\n",
       "    </tr>\n",
       "    <tr>\n",
       "      <th>497</th>\n",
       "      <td>Urrao</td>\n",
       "      <td>6.097277</td>\n",
       "      <td>-76.396075</td>\n",
       "      <td></td>\n",
       "      <td></td>\n",
       "      <td></td>\n",
       "      <td></td>\n",
       "      <td>CO</td>\n",
       "      <td></td>\n",
       "    </tr>\n",
       "    <tr>\n",
       "      <th>498</th>\n",
       "      <td>Jishou</td>\n",
       "      <td>28.644987</td>\n",
       "      <td>110.160481</td>\n",
       "      <td></td>\n",
       "      <td></td>\n",
       "      <td></td>\n",
       "      <td></td>\n",
       "      <td>CN</td>\n",
       "      <td></td>\n",
       "    </tr>\n",
       "    <tr>\n",
       "      <th>499</th>\n",
       "      <td>Shitanjing</td>\n",
       "      <td>39.741215</td>\n",
       "      <td>105.441309</td>\n",
       "      <td></td>\n",
       "      <td></td>\n",
       "      <td></td>\n",
       "      <td></td>\n",
       "      <td>CN</td>\n",
       "      <td></td>\n",
       "    </tr>\n",
       "  </tbody>\n",
       "</table>\n",
       "<p>500 rows × 9 columns</p>\n",
       "</div>"
      ],
      "text/plain": [
       "             City        Lat         Lng Max Temp Humidity Cloudiness  \\\n",
       "0    Beringovskiy  58.625762  176.203495                                \n",
       "1         Aklavik  69.782282 -141.846280                                \n",
       "2       Cape Town -69.301637  -13.693385                                \n",
       "3      Podgornoye  57.075690   82.834095                                \n",
       "4     Kloulklubed   7.161880  134.039925                                \n",
       "..            ...        ...         ...      ...      ...        ...   \n",
       "495     Coihaique -46.032328  -72.121083                                \n",
       "496  Ust-Barguzin  53.449393  108.892341                                \n",
       "497         Urrao   6.097277  -76.396075                                \n",
       "498        Jishou  28.644987  110.160481                                \n",
       "499    Shitanjing  39.741215  105.441309                                \n",
       "\n",
       "    Wind Speed Country Date  \n",
       "0                   RU       \n",
       "1                   CA       \n",
       "2                   ZA       \n",
       "3                   RU       \n",
       "4                   PW       \n",
       "..         ...     ...  ...  \n",
       "495                 CL       \n",
       "496                 RU       \n",
       "497                 CO       \n",
       "498                 CN       \n",
       "499                 CN       \n",
       "\n",
       "[500 rows x 9 columns]"
      ]
     },
     "execution_count": 3,
     "metadata": {},
     "output_type": "execute_result"
    }
   ],
   "source": [
    "# Create a dataframe with the random latitude and longitude\n",
    "\n",
    "cities_df = pd.DataFrame({'City':cities_list,\n",
    "                          'Lat':lat_list,\n",
    "                          'Lng':lng_list,\n",
    "                          'Max Temp':'',\n",
    "                          'Humidity':'',\n",
    "                          'Cloudiness':'',\n",
    "                          'Wind Speed':'',\n",
    "                          'Country':country_list,\n",
    "                          'Date':''})\n",
    "\n",
    "cities_df"
   ]
  },
  {
   "cell_type": "code",
   "execution_count": 4,
   "metadata": {},
   "outputs": [
    {
     "name": "stdout",
     "output_type": "stream",
     "text": [
      "The list of cities has 500 unique cities.\n"
     ]
    }
   ],
   "source": [
    "# Double check if the list only has unique cities\n",
    "print(f\"The list of cities has {len(cities_df['City'].unique())} unique cities.\")\n"
   ]
  },
  {
   "cell_type": "code",
   "execution_count": 5,
   "metadata": {},
   "outputs": [
    {
     "data": {
      "image/png": "[encoded data removed]",
      "text/plain": [
       "<Figure size 432x288 with 1 Axes>"
      ]
     },
     "metadata": {
      "needs_background": "light"
     },
     "output_type": "display_data"
    }
   ],
   "source": [
    "# Generate a scatterplot of the random coordinates.\n",
    "# Note that coordinates looks to be evenly distributed.\n",
    "# since the numpy random number distribution has uniform distribution\n",
    "\n",
    "plt.scatter(x=cities_df['Lng'], y=cities_df['Lat'])\n",
    "plt.title('distribution of cities random generated'.title())\n",
    "plt.xlabel('Longitude')\n",
    "plt.ylabel('Latitude');"
   ]
  },
  {
   "cell_type": "markdown",
   "metadata": {},
   "source": [
    "### Perform API Calls\n",
    "* Perform a weather check on each city using a series of successive API calls.\n",
    "* Include a print log of each city as it'sbeing processed (with the city number and city name).\n"
   ]
  },
  {
   "cell_type": "code",
   "execution_count": 6,
   "metadata": {
    "scrolled": true
   },
   "outputs": [
    {
     "name": "stdout",
     "output_type": "stream",
     "text": [
      "Processing Record 0 of 500 | Beringovskiy\n",
      "Processing Record 1 of 500 | Aklavik\n",
      "Processing Record 2 of 500 | Cape Town\n",
      "Processing Record 3 of 500 | Podgornoye\n",
      "Processing Record 4 of 500 | Kloulklubed\n",
      "Processing Record 5 of 500 | Norman Wells\n",
      "Processing Record 6 of 500 | Bluff\n",
      "Processing Record 7 of 500 | Hobart\n",
      "Processing Record 8 of 500 | Biak\n",
      "Processing Record 9 of 500 | Bulawayo\n",
      "Processing Record 10 of 500 | Punta Arenas\n",
      "Processing Record 11 of 500 | Tuatapere\n",
      "Processing Record 12 of 500 | Mataura\n",
      "Processing Record 13 of 500 | Mughal Sarai\n",
      "Processing Record 14 of 500 | Bredasdorp\n",
      "Processing Record 15 of 500 | Touros\n",
      "Processing Record 16 of 500 | East London\n",
      "Processing Record 17 of 500 | Hermanus\n",
      "Processing Record 18 of 500 | Cidreira\n",
      "Processing Record 19 of 500 | Half Moon Bay\n",
      "Processing Record 20 of 500 | Saskylakh\n",
      "Processing Record 21 of 500 | Attawapiskat\n",
      "City Attawapiskat not found. Skipping...\n",
      "Processing Record 22 of 500 | Ushuaia\n",
      "Processing Record 23 of 500 | Carnarvon\n",
      "Processing Record 24 of 500 | Georgetown\n",
      "Processing Record 25 of 500 | Cayenne\n",
      "Processing Record 26 of 500 | Clyde River\n",
      "Processing Record 27 of 500 | Malartic\n",
      "Processing Record 28 of 500 | Nizhnyaya Tura\n",
      "Processing Record 29 of 500 | Kyabe\n",
      "Processing Record 30 of 500 | Paamiut\n",
      "Processing Record 31 of 500 | Busselton\n",
      "Processing Record 32 of 500 | Piripiri\n",
      "Processing Record 33 of 500 | Port Elizabeth\n",
      "Processing Record 34 of 500 | Berdigestyakh\n",
      "Processing Record 35 of 500 | Yeppoon\n",
      "Processing Record 36 of 500 | Mulege\n",
      "Processing Record 37 of 500 | Ixtapa\n",
      "Processing Record 38 of 500 | Puerto Ayora\n",
      "Processing Record 39 of 500 | Geraldton\n",
      "Processing Record 40 of 500 | Chuy\n",
      "Processing Record 41 of 500 | Airai\n",
      "Processing Record 42 of 500 | Illoqqortoormiut\n",
      "City Illoqqortoormiut not found. Skipping...\n",
      "Processing Record 43 of 500 | Constitucion\n",
      "Processing Record 44 of 500 | Rikitea\n",
      "Processing Record 45 of 500 | Saleaula\n",
      "City Saleaula not found. Skipping...\n",
      "Processing Record 46 of 500 | Grindavik\n",
      "Processing Record 47 of 500 | Albany\n",
      "Processing Record 48 of 500 | Hamilton\n",
      "Processing Record 49 of 500 | Vaitupu\n",
      "City Vaitupu not found. Skipping...\n",
      "Processing Record 50 of 500 | Cherskiy\n",
      "Processing Record 51 of 500 | Severo-Kurilsk\n",
      "Processing Record 52 of 500 | Butaritari\n",
      "Processing Record 53 of 500 | Nizhneyansk\n",
      "City Nizhneyansk not found. Skipping...\n",
      "Processing Record 54 of 500 | Jamestown\n",
      "Processing Record 55 of 500 | Bandarbeyla\n",
      "Processing Record 56 of 500 | Husavik\n",
      "Processing Record 57 of 500 | Pochutla\n",
      "Processing Record 58 of 500 | Pietersburg\n",
      "Processing Record 59 of 500 | Lompoc\n",
      "Processing Record 60 of 500 | Bathsheba\n",
      "Processing Record 61 of 500 | Bahia Blanca\n",
      "Processing Record 62 of 500 | Kavieng\n",
      "Processing Record 63 of 500 | Caravelas\n",
      "Processing Record 64 of 500 | Sao Filipe\n",
      "Processing Record 65 of 500 | Challans\n",
      "Processing Record 66 of 500 | Torbay\n",
      "Processing Record 67 of 500 | Tabou\n",
      "Processing Record 68 of 500 | Mar Del Plata\n",
      "Processing Record 69 of 500 | Gizo\n",
      "Processing Record 70 of 500 | College\n",
      "Processing Record 71 of 500 | Kamenskoye\n",
      "City Kamenskoye not found. Skipping...\n",
      "Processing Record 72 of 500 | Sola\n",
      "Processing Record 73 of 500 | Fortuna\n",
      "Processing Record 74 of 500 | Udaipura\n",
      "Processing Record 75 of 500 | Chokurdakh\n",
      "Processing Record 76 of 500 | Abu Samrah\n",
      "Processing Record 77 of 500 | Hithadhoo\n",
      "Processing Record 78 of 500 | Belushya Guba\n",
      "City Belushya Guba not found. Skipping...\n",
      "Processing Record 79 of 500 | Solnechnyy\n",
      "Processing Record 80 of 500 | Tsevie\n",
      "Processing Record 81 of 500 | Majene\n",
      "Processing Record 82 of 500 | Taolanaro\n",
      "City Taolanaro not found. Skipping...\n",
      "Processing Record 83 of 500 | La Palma\n",
      "Processing Record 84 of 500 | Mount Isa\n",
      "Processing Record 85 of 500 | Ahipara\n",
      "Processing Record 86 of 500 | Dikson\n",
      "Processing Record 87 of 500 | Kruisfontein\n",
      "Processing Record 88 of 500 | Kichera\n",
      "Processing Record 89 of 500 | Yulara\n",
      "Processing Record 90 of 500 | Port Hardy\n",
      "Processing Record 91 of 500 | Katsuura\n",
      "Processing Record 92 of 500 | Lebu\n",
      "Processing Record 93 of 500 | Souillac\n",
      "Processing Record 94 of 500 | Heiligenhafen\n",
      "Processing Record 95 of 500 | Zhigansk\n",
      "Processing Record 96 of 500 | Arraial Do Cabo\n",
      "Processing Record 97 of 500 | Maragogi\n",
      "Processing Record 98 of 500 | Hasaki\n",
      "Processing Record 99 of 500 | Ituiutaba\n",
      "Processing Record 100 of 500 | Mys Shmidta\n",
      "City Mys Shmidta not found. Skipping...\n",
      "Processing Record 101 of 500 | Bubaque\n",
      "Processing Record 102 of 500 | Sansai\n",
      "City Sansai not found. Skipping...\n",
      "Processing Record 103 of 500 | Lasa\n",
      "Processing Record 104 of 500 | Yellowknife\n",
      "Processing Record 105 of 500 | Kribi\n",
      "Processing Record 106 of 500 | Narsaq\n",
      "Processing Record 107 of 500 | Ribeira Grande\n",
      "Processing Record 108 of 500 | Kongolo\n",
      "Processing Record 109 of 500 | Oga\n",
      "Processing Record 110 of 500 | Durango\n",
      "Processing Record 111 of 500 | Salamiyah\n",
      "Processing Record 112 of 500 | New Norfolk\n",
      "Processing Record 113 of 500 | Le Port\n",
      "Processing Record 114 of 500 | Hilo\n",
      "Processing Record 115 of 500 | Atuona\n",
      "Processing Record 116 of 500 | Victoria\n",
      "Processing Record 117 of 500 | Acapulco\n",
      "Processing Record 118 of 500 | Nuuk\n",
      "Processing Record 119 of 500 | Coquimbo\n",
      "Processing Record 120 of 500 | North Bend\n",
      "Processing Record 121 of 500 | Mahebourg\n",
      "Processing Record 122 of 500 | Scottsburgh\n",
      "City Scottsburgh not found. Skipping...\n",
      "Processing Record 123 of 500 | Sabaudia\n",
      "Processing Record 124 of 500 | Machilipatnam\n",
      "Processing Record 125 of 500 | Bethel\n",
      "Processing Record 126 of 500 | Vardo\n",
      "Processing Record 127 of 500 | Tasiilaq\n",
      "Processing Record 128 of 500 | Salvador\n",
      "Processing Record 129 of 500 | Cangucu\n",
      "Processing Record 130 of 500 | Litomysl\n",
      "Processing Record 131 of 500 | Mahanoro\n",
      "Processing Record 132 of 500 | Oleksandrivka\n",
      "Processing Record 133 of 500 | Doka\n",
      "Processing Record 134 of 500 | Avarua\n",
      "Processing Record 135 of 500 | Bonnyville\n",
      "Processing Record 136 of 500 | Kapaa\n",
      "Processing Record 137 of 500 | Tuktoyaktuk\n",
      "Processing Record 138 of 500 | Thompson\n",
      "Processing Record 139 of 500 | Zhicheng\n",
      "Processing Record 140 of 500 | Kapuskasing\n",
      "Processing Record 141 of 500 | Roma\n",
      "Processing Record 142 of 500 | Kushiro\n",
      "Processing Record 143 of 500 | Viedma\n",
      "Processing Record 144 of 500 | Santarem\n",
      "Processing Record 145 of 500 | Mahibadhoo\n",
      "Processing Record 146 of 500 | Aranos\n",
      "Processing Record 147 of 500 | Tukrah\n",
      "Processing Record 148 of 500 | Sentyabrskiy\n",
      "City Sentyabrskiy not found. Skipping...\n",
      "Processing Record 149 of 500 | Pierre\n",
      "Processing Record 150 of 500 | Tangshan\n",
      "Processing Record 151 of 500 | Vizinga\n",
      "Processing Record 152 of 500 | Egvekinot\n",
      "Processing Record 153 of 500 | Slave Lake\n",
      "Processing Record 154 of 500 | Vostok\n",
      "Processing Record 155 of 500 | Barentsburg\n",
      "City Barentsburg not found. Skipping...\n",
      "Processing Record 156 of 500 | Hami\n",
      "Processing Record 157 of 500 | Markova\n",
      "Processing Record 158 of 500 | Ilulissat\n",
      "Processing Record 159 of 500 | Castro\n",
      "Processing Record 160 of 500 | Hailar\n",
      "Processing Record 161 of 500 | Krasnyy Chikoy\n",
      "Processing Record 162 of 500 | Neryungri\n",
      "Processing Record 163 of 500 | Yangambi\n",
      "Processing Record 164 of 500 | Takoradi\n",
      "Processing Record 165 of 500 | Codrington\n",
      "Processing Record 166 of 500 | Saint-Philippe\n",
      "Processing Record 167 of 500 | Kodiak\n",
      "Processing Record 168 of 500 | Vaini\n",
      "Processing Record 169 of 500 | Banjar\n",
      "Processing Record 170 of 500 | Gisborne\n",
      "Processing Record 171 of 500 | South Sioux City\n",
      "Processing Record 172 of 500 | Calvinia\n",
      "Processing Record 173 of 500 | Barawe\n",
      "City Barawe not found. Skipping...\n",
      "Processing Record 174 of 500 | Cheuskiny\n",
      "City Cheuskiny not found. Skipping...\n",
      "Processing Record 175 of 500 | Barrow\n",
      "Processing Record 176 of 500 | Concordia\n",
      "Processing Record 177 of 500 | Mungwi\n",
      "Processing Record 178 of 500 | Kaitangata\n",
      "Processing Record 179 of 500 | Vavuniya\n",
      "Processing Record 180 of 500 | Tessalit\n",
      "Processing Record 181 of 500 | Okhotsk\n",
      "Processing Record 182 of 500 | Flinders\n",
      "Processing Record 183 of 500 | Sinnamary\n",
      "Processing Record 184 of 500 | Skagastrond\n",
      "City Skagastrond not found. Skipping...\n",
      "Processing Record 185 of 500 | Dingle\n",
      "Processing Record 186 of 500 | Kiunga\n",
      "Processing Record 187 of 500 | Upata\n",
      "Processing Record 188 of 500 | Ushtobe\n",
      "Processing Record 189 of 500 | Yumen\n",
      "Processing Record 190 of 500 | San-Pedro\n"
     ]
    },
    {
     "name": "stdout",
     "output_type": "stream",
     "text": [
      "Processing Record 191 of 500 | Port Blair\n",
      "Processing Record 192 of 500 | Atambua\n",
      "Processing Record 193 of 500 | Khatanga\n",
      "Processing Record 194 of 500 | Pimentel\n",
      "Processing Record 195 of 500 | Saint George\n",
      "Processing Record 196 of 500 | Ayan\n",
      "Processing Record 197 of 500 | Esperance\n",
      "Processing Record 198 of 500 | Toliary\n",
      "City Toliary not found. Skipping...\n",
      "Processing Record 199 of 500 | Kaeo\n",
      "Processing Record 200 of 500 | Shieli\n",
      "Processing Record 201 of 500 | Qaanaaq\n",
      "Processing Record 202 of 500 | Rapid Valley\n",
      "Processing Record 203 of 500 | Mathathane\n",
      "Processing Record 204 of 500 | Presque Isle\n",
      "Processing Record 205 of 500 | Manitouwadge\n",
      "Processing Record 206 of 500 | Key Largo\n",
      "Processing Record 207 of 500 | Halalo\n",
      "City Halalo not found. Skipping...\n",
      "Processing Record 208 of 500 | Khromtau\n",
      "Processing Record 209 of 500 | Conselheiro Pena\n",
      "Processing Record 210 of 500 | San Diego\n",
      "Processing Record 211 of 500 | Iqaluit\n",
      "Processing Record 212 of 500 | Faanui\n",
      "Processing Record 213 of 500 | Ahuimanu\n",
      "Processing Record 214 of 500 | Grand River South East\n",
      "City Grand River South East not found. Skipping...\n",
      "Processing Record 215 of 500 | Nikolskoye\n",
      "Processing Record 216 of 500 | Bati\n",
      "Processing Record 217 of 500 | Aswan\n",
      "Processing Record 218 of 500 | Calabozo\n",
      "Processing Record 219 of 500 | Faya\n",
      "Processing Record 220 of 500 | Phumi Samraong\n",
      "City Phumi Samraong not found. Skipping...\n",
      "Processing Record 221 of 500 | Berlevag\n",
      "Processing Record 222 of 500 | San Francisco\n",
      "Processing Record 223 of 500 | Eenhana\n",
      "Processing Record 224 of 500 | Churapcha\n",
      "Processing Record 225 of 500 | Gold Coast\n",
      "Processing Record 226 of 500 | Burica\n",
      "City Burica not found. Skipping...\n",
      "Processing Record 227 of 500 | Juneau\n",
      "Processing Record 228 of 500 | Lagoa\n",
      "Processing Record 229 of 500 | Bur Gabo\n",
      "City Bur Gabo not found. Skipping...\n",
      "Processing Record 230 of 500 | Margate\n",
      "Processing Record 231 of 500 | Veraval\n",
      "Processing Record 232 of 500 | Cabo San Lucas\n",
      "Processing Record 233 of 500 | Opuwo\n",
      "Processing Record 234 of 500 | Kamina\n",
      "Processing Record 235 of 500 | Ugoofaaru\n",
      "Processing Record 236 of 500 | Sambhar\n",
      "Processing Record 237 of 500 | Umm Kaddadah\n",
      "Processing Record 238 of 500 | Cascais\n",
      "Processing Record 239 of 500 | Bayji\n",
      "Processing Record 240 of 500 | Samarkand\n",
      "Processing Record 241 of 500 | Jiuquan\n",
      "Processing Record 242 of 500 | Bambous Virieux\n",
      "Processing Record 243 of 500 | Manzanillo\n",
      "Processing Record 244 of 500 | Upernavik\n",
      "Processing Record 245 of 500 | Ozgon\n",
      "City Ozgon not found. Skipping...\n",
      "Processing Record 246 of 500 | Fairbanks\n",
      "Processing Record 247 of 500 | Aksu\n",
      "Processing Record 248 of 500 | Ambunti\n",
      "Processing Record 249 of 500 | Port Alfred\n",
      "Processing Record 250 of 500 | Bontang\n",
      "Processing Record 251 of 500 | Moba\n",
      "Processing Record 252 of 500 | Sitka\n",
      "Processing Record 253 of 500 | Hambantota\n",
      "Processing Record 254 of 500 | Qostanay\n",
      "Processing Record 255 of 500 | Seoul\n",
      "Processing Record 256 of 500 | Amahai\n",
      "Processing Record 257 of 500 | Naze\n",
      "Processing Record 258 of 500 | Rocha\n",
      "Processing Record 259 of 500 | Luderitz\n",
      "Processing Record 260 of 500 | Tiksi\n",
      "Processing Record 261 of 500 | Pilani\n",
      "Processing Record 262 of 500 | Yerbogachen\n",
      "Processing Record 263 of 500 | Morondava\n",
      "Processing Record 264 of 500 | Samoded\n",
      "Processing Record 265 of 500 | Takayama\n",
      "Processing Record 266 of 500 | San Quintin\n",
      "Processing Record 267 of 500 | Garowe\n",
      "Processing Record 268 of 500 | Naftah\n",
      "City Naftah not found. Skipping...\n",
      "Processing Record 269 of 500 | Pisco\n",
      "Processing Record 270 of 500 | Yarmouth\n",
      "Processing Record 271 of 500 | Jijiga\n",
      "Processing Record 272 of 500 | Pevek\n",
      "Processing Record 273 of 500 | Mergui\n",
      "City Mergui not found. Skipping...\n",
      "Processing Record 274 of 500 | Abha\n",
      "Processing Record 275 of 500 | Ambovombe\n",
      "Processing Record 276 of 500 | Fujieda\n",
      "Processing Record 277 of 500 | Arroyo\n",
      "Processing Record 278 of 500 | Oskemen\n",
      "Processing Record 279 of 500 | Peterhead\n",
      "Processing Record 280 of 500 | Kashmor\n",
      "Processing Record 281 of 500 | Tucuma\n",
      "Processing Record 282 of 500 | Brainerd\n",
      "Processing Record 283 of 500 | Julana\n",
      "City Julana not found. Skipping...\n",
      "Processing Record 284 of 500 | Tecoanapa\n",
      "Processing Record 285 of 500 | Honningsvag\n",
      "Processing Record 286 of 500 | Kushmurun\n",
      "Processing Record 287 of 500 | Sheridan\n",
      "Processing Record 288 of 500 | Ponta Do Sol\n",
      "Processing Record 289 of 500 | Nurlat\n",
      "Processing Record 290 of 500 | Pathein\n",
      "Processing Record 291 of 500 | Bideford\n",
      "Processing Record 292 of 500 | Kununurra\n",
      "Processing Record 293 of 500 | Zyryanovsk\n",
      "Processing Record 294 of 500 | Yuzhno-Yeniseyskiy\n",
      "City Yuzhno-Yeniseyskiy not found. Skipping...\n",
      "Processing Record 295 of 500 | Belyy Yar\n",
      "Processing Record 296 of 500 | Novikovo\n",
      "Processing Record 297 of 500 | Bacabal\n",
      "Processing Record 298 of 500 | Jefferson City\n",
      "Processing Record 299 of 500 | Comodoro Rivadavia\n",
      "Processing Record 300 of 500 | Ola\n",
      "Processing Record 301 of 500 | Muroto\n",
      "Processing Record 302 of 500 | Vila Velha\n",
      "Processing Record 303 of 500 | Wanaka\n",
      "Processing Record 304 of 500 | Fort Myers Beach\n",
      "Processing Record 305 of 500 | Taltal\n",
      "Processing Record 306 of 500 | Semey\n",
      "Processing Record 307 of 500 | Kenai\n",
      "Processing Record 308 of 500 | Ko Samui\n",
      "Processing Record 309 of 500 | Huilong\n",
      "Processing Record 310 of 500 | Palmerston\n",
      "Processing Record 311 of 500 | Noumea\n",
      "Processing Record 312 of 500 | Vestmannaeyjar\n",
      "Processing Record 313 of 500 | Tual\n",
      "Processing Record 314 of 500 | Prince Rupert\n",
      "Processing Record 315 of 500 | Karauzyak\n",
      "City Karauzyak not found. Skipping...\n",
      "Processing Record 316 of 500 | Hovd\n",
      "Processing Record 317 of 500 | Perth\n",
      "Processing Record 318 of 500 | Artigas\n",
      "Processing Record 319 of 500 | Meulaboh\n",
      "Processing Record 320 of 500 | Oranjemund\n",
      "Processing Record 321 of 500 | Talnakh\n",
      "Processing Record 322 of 500 | Cortez\n",
      "Processing Record 323 of 500 | Kon Tum\n",
      "Processing Record 324 of 500 | Nanortalik\n",
      "Processing Record 325 of 500 | Conde\n",
      "Processing Record 326 of 500 | Pecos\n",
      "Processing Record 327 of 500 | Kahului\n",
      "Processing Record 328 of 500 | Labuhan\n",
      "Processing Record 329 of 500 | Miajadas\n",
      "Processing Record 330 of 500 | Kankaanpaa\n",
      "Processing Record 331 of 500 | Krutinka\n",
      "Processing Record 332 of 500 | Sayat\n",
      "Processing Record 333 of 500 | Komsomolskiy\n",
      "Processing Record 334 of 500 | Sobolevo\n",
      "Processing Record 335 of 500 | Whitianga\n",
      "Processing Record 336 of 500 | Sakakah\n",
      "Processing Record 337 of 500 | Celestun\n",
      "Processing Record 338 of 500 | Dwarka\n",
      "Processing Record 339 of 500 | Rajgarh\n",
      "Processing Record 340 of 500 | Plettenberg Bay\n",
      "Processing Record 341 of 500 | Shingu\n",
      "Processing Record 342 of 500 | Itarema\n",
      "Processing Record 343 of 500 | Olafsvik\n",
      "Processing Record 344 of 500 | Bloemhof\n",
      "Processing Record 345 of 500 | Nchelenge\n",
      "Processing Record 346 of 500 | Cedar City\n",
      "Processing Record 347 of 500 | Mirnyy\n",
      "Processing Record 348 of 500 | Iquique\n",
      "Processing Record 349 of 500 | Pianoro\n",
      "Processing Record 350 of 500 | Chabahar\n",
      "Processing Record 351 of 500 | Zabaykalsk\n",
      "Processing Record 352 of 500 | Linjiang\n",
      "Processing Record 353 of 500 | Asau\n",
      "Processing Record 354 of 500 | Chinhoyi\n",
      "Processing Record 355 of 500 | Wattegama\n",
      "Processing Record 356 of 500 | Mangan\n",
      "Processing Record 357 of 500 | Aykhal\n",
      "Processing Record 358 of 500 | Tautira\n",
      "Processing Record 359 of 500 | Kudahuvadhoo\n",
      "Processing Record 360 of 500 | Karasjok\n",
      "Processing Record 361 of 500 | Harigue\n",
      "City Harigue not found. Skipping...\n",
      "Processing Record 362 of 500 | Surovikino\n",
      "Processing Record 363 of 500 | Veinticinco De Mayo\n",
      "Processing Record 364 of 500 | Kuytun\n",
      "Processing Record 365 of 500 | Goderich\n",
      "Processing Record 366 of 500 | Winnemucca\n",
      "Processing Record 367 of 500 | Murray Bridge\n",
      "Processing Record 368 of 500 | Luwuk\n",
      "Processing Record 369 of 500 | Makkaveyevo\n",
      "Processing Record 370 of 500 | Artyk\n",
      "City Artyk not found. Skipping...\n",
      "Processing Record 371 of 500 | Mount Gambier\n",
      "Processing Record 372 of 500 | Nha Trang\n",
      "Processing Record 373 of 500 | Wahran\n",
      "City Wahran not found. Skipping...\n",
      "Processing Record 374 of 500 | Madimba\n",
      "Processing Record 375 of 500 | Lavrentiya\n",
      "Processing Record 376 of 500 | Kondoa\n",
      "Processing Record 377 of 500 | Malwan\n",
      "City Malwan not found. Skipping...\n",
      "Processing Record 378 of 500 | Samusu\n",
      "City Samusu not found. Skipping...\n",
      "Processing Record 379 of 500 | Nichlaul\n"
     ]
    },
    {
     "name": "stdout",
     "output_type": "stream",
     "text": [
      "Processing Record 380 of 500 | Hirara\n",
      "Processing Record 381 of 500 | Emborion\n",
      "Processing Record 382 of 500 | Ozinki\n",
      "Processing Record 383 of 500 | Ningan\n",
      "City Ningan not found. Skipping...\n",
      "Processing Record 384 of 500 | Los Algarrobos\n",
      "Processing Record 385 of 500 | Danielskuil\n",
      "Processing Record 386 of 500 | Monte San Pietro\n",
      "Processing Record 387 of 500 | Colares\n",
      "Processing Record 388 of 500 | Gaspe\n",
      "Processing Record 389 of 500 | Mtambile\n",
      "Processing Record 390 of 500 | Tias\n",
      "Processing Record 391 of 500 | Portland\n",
      "Processing Record 392 of 500 | Deputatskiy\n",
      "Processing Record 393 of 500 | Oranjestad\n",
      "Processing Record 394 of 500 | Biltine\n",
      "Processing Record 395 of 500 | Veseloyarsk\n",
      "Processing Record 396 of 500 | Karlskoga\n",
      "Processing Record 397 of 500 | San Patricio\n",
      "Processing Record 398 of 500 | Esso\n",
      "Processing Record 399 of 500 | Santander\n",
      "Processing Record 400 of 500 | Fuyu\n",
      "Processing Record 401 of 500 | Namibe\n",
      "Processing Record 402 of 500 | Lerwick\n",
      "Processing Record 403 of 500 | Longyearbyen\n",
      "Processing Record 404 of 500 | Lodja\n",
      "Processing Record 405 of 500 | Kamenka\n",
      "Processing Record 406 of 500 | Khandyga\n",
      "Processing Record 407 of 500 | Atar\n",
      "Processing Record 408 of 500 | Oistins\n",
      "Processing Record 409 of 500 | Kambarka\n",
      "Processing Record 410 of 500 | Fukue\n",
      "Processing Record 411 of 500 | Teluknaga\n",
      "Processing Record 412 of 500 | Kantunil\n",
      "Processing Record 413 of 500 | Amderma\n",
      "City Amderma not found. Skipping...\n",
      "Processing Record 414 of 500 | Ngunguru\n",
      "Processing Record 415 of 500 | Bhatkal\n",
      "Processing Record 416 of 500 | Ducheng\n",
      "Processing Record 417 of 500 | Iberia\n",
      "Processing Record 418 of 500 | Coahuayana\n",
      "Processing Record 419 of 500 | Big Spring\n",
      "Processing Record 420 of 500 | Saint-Pierre\n",
      "Processing Record 421 of 500 | Ancud\n",
      "Processing Record 422 of 500 | Tornio\n",
      "Processing Record 423 of 500 | Erzin\n",
      "Processing Record 424 of 500 | Waipawa\n",
      "Processing Record 425 of 500 | Natal\n",
      "Processing Record 426 of 500 | Cabedelo\n",
      "Processing Record 427 of 500 | Eravur\n",
      "Processing Record 428 of 500 | San Andres\n",
      "Processing Record 429 of 500 | Petropavlovsk-Kamchatskiy\n",
      "Processing Record 430 of 500 | Tsihombe\n",
      "City Tsihombe not found. Skipping...\n",
      "Processing Record 431 of 500 | Jieshi\n",
      "Processing Record 432 of 500 | Marrakesh\n",
      "Processing Record 433 of 500 | San Cristobal\n",
      "Processing Record 434 of 500 | Mugur-Aksy\n",
      "Processing Record 435 of 500 | Ponta Delgada\n",
      "Processing Record 436 of 500 | Cancun\n",
      "Processing Record 437 of 500 | Izamal\n",
      "Processing Record 438 of 500 | San Luis\n",
      "Processing Record 439 of 500 | Bengkulu\n",
      "Processing Record 440 of 500 | Jibuti\n",
      "Processing Record 441 of 500 | Lewistown\n",
      "Processing Record 442 of 500 | Port-Gentil\n",
      "Processing Record 443 of 500 | Bilibino\n",
      "Processing Record 444 of 500 | Palabuhanratu\n",
      "City Palabuhanratu not found. Skipping...\n",
      "Processing Record 445 of 500 | Menongue\n",
      "Processing Record 446 of 500 | Myitkyina\n",
      "Processing Record 447 of 500 | Dolbeau\n",
      "City Dolbeau not found. Skipping...\n",
      "Processing Record 448 of 500 | Marcona\n",
      "City Marcona not found. Skipping...\n",
      "Processing Record 449 of 500 | Abu Dhabi\n",
      "Processing Record 450 of 500 | Cockburn Town\n",
      "Processing Record 451 of 500 | Japura\n",
      "Processing Record 452 of 500 | Mehamn\n",
      "Processing Record 453 of 500 | Broken Hill\n",
      "Processing Record 454 of 500 | Alofi\n",
      "Processing Record 455 of 500 | Mattru\n",
      "Processing Record 456 of 500 | Matay\n",
      "Processing Record 457 of 500 | Port Augusta\n",
      "Processing Record 458 of 500 | La Union\n",
      "Processing Record 459 of 500 | Rochegda\n",
      "Processing Record 460 of 500 | Dondo\n",
      "Processing Record 461 of 500 | Port-Cartier\n",
      "Processing Record 462 of 500 | Vakhrushev\n",
      "Processing Record 463 of 500 | Kabale\n",
      "Processing Record 464 of 500 | Tema\n",
      "Processing Record 465 of 500 | Jinchang\n",
      "Processing Record 466 of 500 | Awallan\n",
      "Processing Record 467 of 500 | Namatanai\n",
      "Processing Record 468 of 500 | Svarstad\n",
      "Processing Record 469 of 500 | Yining\n",
      "Processing Record 470 of 500 | Qaqortoq\n",
      "Processing Record 471 of 500 | Fort Nelson\n",
      "Processing Record 472 of 500 | Jelgava\n",
      "Processing Record 473 of 500 | Ordynskoye\n",
      "Processing Record 474 of 500 | San Pancrazio Salentino\n",
      "Processing Record 475 of 500 | Chiang Klang\n",
      "Processing Record 476 of 500 | Pangpang\n",
      "Processing Record 477 of 500 | Luba\n",
      "Processing Record 478 of 500 | Srednekolymsk\n",
      "Processing Record 479 of 500 | Flin Flon\n",
      "Processing Record 480 of 500 | Binzhou\n",
      "Processing Record 481 of 500 | Obera\n",
      "Processing Record 482 of 500 | Allanmyo\n",
      "City Allanmyo not found. Skipping...\n",
      "Processing Record 483 of 500 | Gravdal\n",
      "Processing Record 484 of 500 | Fairlie\n",
      "Processing Record 485 of 500 | Gamba\n",
      "Processing Record 486 of 500 | Miami\n",
      "Processing Record 487 of 500 | Achisay\n",
      "City Achisay not found. Skipping...\n",
      "Processing Record 488 of 500 | Xining\n",
      "Processing Record 489 of 500 | Adamantina\n",
      "Processing Record 490 of 500 | Honggang\n",
      "Processing Record 491 of 500 | La Libertad\n",
      "Processing Record 492 of 500 | Tagusao\n",
      "Processing Record 493 of 500 | Mayumba\n",
      "Processing Record 494 of 500 | Torit\n",
      "Processing Record 495 of 500 | Coihaique\n",
      "Processing Record 496 of 500 | Ust-Barguzin\n",
      "Processing Record 497 of 500 | Urrao\n",
      "Processing Record 498 of 500 | Jishou\n",
      "Processing Record 499 of 500 | Shitanjing\n",
      "-----------------------------\n",
      "Data Retrieval Complete\n",
      "-----------------------------\n"
     ]
    }
   ],
   "source": [
    "# Save config information.\n",
    "url = \"http://api.openweathermap.org/data/2.5/weather?\"\n",
    "units = \"imperial\"\n",
    "\n",
    "# Build partial query URL\n",
    "query_url = f\"{url}appid={weather_api_key}&units={units}&q=\"\n",
    "\n",
    "\n",
    "# set up lists to hold reponse info\n",
    "hum = []\n",
    "max_temp = []\n",
    "cloudiness = []\n",
    "wind_speed = []\n",
    "time_data_calculation = []\n",
    "n = 0\n",
    "\n",
    "# Loop through the list of cities and perform a request for data on each\n",
    "for city in cities_df['City']:\n",
    "    response = requests.get(query_url + city).json()\n",
    "\n",
    "\n",
    "    # Handle exception in case of city data not available in the API\n",
    "    try:\n",
    "        print(f\"Processing Record {n} of {len(cities_df['City'])} | {city}\")\n",
    "        hum.append(response['main']['humidity'])\n",
    "        max_temp.append(response['main']['temp_max'])\n",
    "        cloudiness.append(response['clouds']['all'])\n",
    "        wind_speed.append(response['wind']['speed'])\n",
    "        time_data_calculation.append(response['dt'])\n",
    "    except KeyError:\n",
    "        print(f\"City {city} not found. Skipping...\")\n",
    "        hum.append(np.nan)\n",
    "        max_temp.append(np.nan)\n",
    "        cloudiness.append(np.nan)\n",
    "        wind_speed.append(np.nan)\n",
    "        time_data_calculation.append(np.nan)\n",
    "    \n",
    "    n += 1\n",
    "\n",
    "    \n",
    "print('-----------------------------')\n",
    "print('Data Retrieval Complete')\n",
    "print('-----------------------------')"
   ]
  },
  {
   "cell_type": "code",
   "execution_count": 7,
   "metadata": {},
   "outputs": [],
   "source": [
    "# Update the dataframe with the data colected from the API for Max Temp, Humidity, Cloudiness, Wind Speed, Date\n",
    "cities_df['Max Temp'] = max_temp\n",
    "cities_df['Humidity'] = hum\n",
    "cities_df['Cloudiness'] = cloudiness\n",
    "cities_df['Wind Speed'] = wind_speed\n",
    "cities_df['Date'] = time_data_calculation"
   ]
  },
  {
   "cell_type": "markdown",
   "metadata": {},
   "source": [
    "### Convert Raw Data to DataFrame\n",
    "* Export the city data into a .csv.\n",
    "* Display the DataFrame"
   ]
  },
  {
   "cell_type": "code",
   "execution_count": 8,
   "metadata": {},
   "outputs": [],
   "source": [
    "cities_df.to_csv('data/city_weather.csv')"
   ]
  },
  {
   "cell_type": "code",
   "execution_count": 9,
   "metadata": {},
   "outputs": [
    {
     "data": {
      "text/html": [
       "<div>\n",
       "<style scoped>\n",
       "    .dataframe tbody tr th:only-of-type {\n",
       "        vertical-align: middle;\n",
       "    }\n",
       "\n",
       "    .dataframe tbody tr th {\n",
       "        vertical-align: top;\n",
       "    }\n",
       "\n",
       "    .dataframe thead th {\n",
       "        text-align: right;\n",
       "    }\n",
       "</style>\n",
       "<table border=\"1\" class=\"dataframe\">\n",
       "  <thead>\n",
       "    <tr style=\"text-align: right;\">\n",
       "      <th></th>\n",
       "      <th>City</th>\n",
       "      <th>Lat</th>\n",
       "      <th>Lng</th>\n",
       "      <th>Max Temp</th>\n",
       "      <th>Humidity</th>\n",
       "      <th>Cloudiness</th>\n",
       "      <th>Wind Speed</th>\n",
       "      <th>Country</th>\n",
       "      <th>Date</th>\n",
       "    </tr>\n",
       "  </thead>\n",
       "  <tbody>\n",
       "    <tr>\n",
       "      <th>0</th>\n",
       "      <td>Beringovskiy</td>\n",
       "      <td>58.625762</td>\n",
       "      <td>176.203495</td>\n",
       "      <td>47.68</td>\n",
       "      <td>78.0</td>\n",
       "      <td>95.0</td>\n",
       "      <td>19.66</td>\n",
       "      <td>RU</td>\n",
       "      <td>1.599890e+09</td>\n",
       "    </tr>\n",
       "    <tr>\n",
       "      <th>1</th>\n",
       "      <td>Aklavik</td>\n",
       "      <td>69.782282</td>\n",
       "      <td>-141.846280</td>\n",
       "      <td>35.60</td>\n",
       "      <td>93.0</td>\n",
       "      <td>90.0</td>\n",
       "      <td>13.87</td>\n",
       "      <td>CA</td>\n",
       "      <td>1.599890e+09</td>\n",
       "    </tr>\n",
       "    <tr>\n",
       "      <th>2</th>\n",
       "      <td>Cape Town</td>\n",
       "      <td>-69.301637</td>\n",
       "      <td>-13.693385</td>\n",
       "      <td>57.20</td>\n",
       "      <td>87.0</td>\n",
       "      <td>84.0</td>\n",
       "      <td>2.24</td>\n",
       "      <td>ZA</td>\n",
       "      <td>1.599890e+09</td>\n",
       "    </tr>\n",
       "    <tr>\n",
       "      <th>3</th>\n",
       "      <td>Podgornoye</td>\n",
       "      <td>57.075690</td>\n",
       "      <td>82.834095</td>\n",
       "      <td>53.60</td>\n",
       "      <td>58.0</td>\n",
       "      <td>31.0</td>\n",
       "      <td>6.71</td>\n",
       "      <td>RU</td>\n",
       "      <td>1.599890e+09</td>\n",
       "    </tr>\n",
       "    <tr>\n",
       "      <th>4</th>\n",
       "      <td>Kloulklubed</td>\n",
       "      <td>7.161880</td>\n",
       "      <td>134.039925</td>\n",
       "      <td>82.40</td>\n",
       "      <td>83.0</td>\n",
       "      <td>90.0</td>\n",
       "      <td>8.05</td>\n",
       "      <td>PW</td>\n",
       "      <td>1.599890e+09</td>\n",
       "    </tr>\n",
       "    <tr>\n",
       "      <th>...</th>\n",
       "      <td>...</td>\n",
       "      <td>...</td>\n",
       "      <td>...</td>\n",
       "      <td>...</td>\n",
       "      <td>...</td>\n",
       "      <td>...</td>\n",
       "      <td>...</td>\n",
       "      <td>...</td>\n",
       "      <td>...</td>\n",
       "    </tr>\n",
       "    <tr>\n",
       "      <th>495</th>\n",
       "      <td>Coihaique</td>\n",
       "      <td>-46.032328</td>\n",
       "      <td>-72.121083</td>\n",
       "      <td>37.40</td>\n",
       "      <td>86.0</td>\n",
       "      <td>75.0</td>\n",
       "      <td>4.70</td>\n",
       "      <td>CL</td>\n",
       "      <td>1.599891e+09</td>\n",
       "    </tr>\n",
       "    <tr>\n",
       "      <th>496</th>\n",
       "      <td>Ust-Barguzin</td>\n",
       "      <td>53.449393</td>\n",
       "      <td>108.892341</td>\n",
       "      <td>59.81</td>\n",
       "      <td>82.0</td>\n",
       "      <td>100.0</td>\n",
       "      <td>5.82</td>\n",
       "      <td>RU</td>\n",
       "      <td>1.599891e+09</td>\n",
       "    </tr>\n",
       "    <tr>\n",
       "      <th>497</th>\n",
       "      <td>Urrao</td>\n",
       "      <td>6.097277</td>\n",
       "      <td>-76.396075</td>\n",
       "      <td>55.00</td>\n",
       "      <td>97.0</td>\n",
       "      <td>100.0</td>\n",
       "      <td>1.48</td>\n",
       "      <td>CO</td>\n",
       "      <td>1.599891e+09</td>\n",
       "    </tr>\n",
       "    <tr>\n",
       "      <th>498</th>\n",
       "      <td>Jishou</td>\n",
       "      <td>28.644987</td>\n",
       "      <td>110.160481</td>\n",
       "      <td>69.42</td>\n",
       "      <td>89.0</td>\n",
       "      <td>100.0</td>\n",
       "      <td>5.41</td>\n",
       "      <td>CN</td>\n",
       "      <td>1.599891e+09</td>\n",
       "    </tr>\n",
       "    <tr>\n",
       "      <th>499</th>\n",
       "      <td>Shitanjing</td>\n",
       "      <td>39.741215</td>\n",
       "      <td>105.441309</td>\n",
       "      <td>75.09</td>\n",
       "      <td>31.0</td>\n",
       "      <td>92.0</td>\n",
       "      <td>4.59</td>\n",
       "      <td>CN</td>\n",
       "      <td>1.599891e+09</td>\n",
       "    </tr>\n",
       "  </tbody>\n",
       "</table>\n",
       "<p>500 rows × 9 columns</p>\n",
       "</div>"
      ],
      "text/plain": [
       "             City        Lat         Lng  Max Temp  Humidity  Cloudiness  \\\n",
       "0    Beringovskiy  58.625762  176.203495     47.68      78.0        95.0   \n",
       "1         Aklavik  69.782282 -141.846280     35.60      93.0        90.0   \n",
       "2       Cape Town -69.301637  -13.693385     57.20      87.0        84.0   \n",
       "3      Podgornoye  57.075690   82.834095     53.60      58.0        31.0   \n",
       "4     Kloulklubed   7.161880  134.039925     82.40      83.0        90.0   \n",
       "..            ...        ...         ...       ...       ...         ...   \n",
       "495     Coihaique -46.032328  -72.121083     37.40      86.0        75.0   \n",
       "496  Ust-Barguzin  53.449393  108.892341     59.81      82.0       100.0   \n",
       "497         Urrao   6.097277  -76.396075     55.00      97.0       100.0   \n",
       "498        Jishou  28.644987  110.160481     69.42      89.0       100.0   \n",
       "499    Shitanjing  39.741215  105.441309     75.09      31.0        92.0   \n",
       "\n",
       "     Wind Speed Country          Date  \n",
       "0         19.66      RU  1.599890e+09  \n",
       "1         13.87      CA  1.599890e+09  \n",
       "2          2.24      ZA  1.599890e+09  \n",
       "3          6.71      RU  1.599890e+09  \n",
       "4          8.05      PW  1.599890e+09  \n",
       "..          ...     ...           ...  \n",
       "495        4.70      CL  1.599891e+09  \n",
       "496        5.82      RU  1.599891e+09  \n",
       "497        1.48      CO  1.599891e+09  \n",
       "498        5.41      CN  1.599891e+09  \n",
       "499        4.59      CN  1.599891e+09  \n",
       "\n",
       "[500 rows x 9 columns]"
      ]
     },
     "execution_count": 9,
     "metadata": {},
     "output_type": "execute_result"
    }
   ],
   "source": [
    "cities_df"
   ]
  },
  {
   "cell_type": "markdown",
   "metadata": {},
   "source": [
    "## Inspect the data and remove the cities where the humidity > 100%.\n",
    "----\n",
    "Skip this step if there are no cities that have humidity > 100%. "
   ]
  },
  {
   "cell_type": "code",
   "execution_count": 10,
   "metadata": {},
   "outputs": [
    {
     "data": {
      "text/plain": [
       "Series([], Name: Humidity, dtype: float64)"
      ]
     },
     "execution_count": 10,
     "metadata": {},
     "output_type": "execute_result"
    }
   ],
   "source": [
    "filter_hum = cities_df['Humidity'].loc[cities_df['Humidity'] > 100]\n",
    "filter_hum"
   ]
  },
  {
   "cell_type": "code",
   "execution_count": 11,
   "metadata": {},
   "outputs": [
    {
     "data": {
      "text/plain": [
       "Int64Index([], dtype='int64')"
      ]
     },
     "execution_count": 11,
     "metadata": {},
     "output_type": "execute_result"
    }
   ],
   "source": [
    "#  Get the indices of cities that have humidity over 100%.\n",
    "indexes_hum = filter_hum.keys()\n",
    "indexes_hum"
   ]
  },
  {
   "cell_type": "code",
   "execution_count": 12,
   "metadata": {},
   "outputs": [
    {
     "data": {
      "text/html": [
       "<div>\n",
       "<style scoped>\n",
       "    .dataframe tbody tr th:only-of-type {\n",
       "        vertical-align: middle;\n",
       "    }\n",
       "\n",
       "    .dataframe tbody tr th {\n",
       "        vertical-align: top;\n",
       "    }\n",
       "\n",
       "    .dataframe thead th {\n",
       "        text-align: right;\n",
       "    }\n",
       "</style>\n",
       "<table border=\"1\" class=\"dataframe\">\n",
       "  <thead>\n",
       "    <tr style=\"text-align: right;\">\n",
       "      <th></th>\n",
       "      <th>City</th>\n",
       "      <th>Lat</th>\n",
       "      <th>Lng</th>\n",
       "      <th>Max Temp</th>\n",
       "      <th>Humidity</th>\n",
       "      <th>Cloudiness</th>\n",
       "      <th>Wind Speed</th>\n",
       "      <th>Country</th>\n",
       "      <th>Date</th>\n",
       "    </tr>\n",
       "  </thead>\n",
       "  <tbody>\n",
       "    <tr>\n",
       "      <th>0</th>\n",
       "      <td>Beringovskiy</td>\n",
       "      <td>58.625762</td>\n",
       "      <td>176.203495</td>\n",
       "      <td>47.68</td>\n",
       "      <td>78.0</td>\n",
       "      <td>95.0</td>\n",
       "      <td>19.66</td>\n",
       "      <td>RU</td>\n",
       "      <td>1.599890e+09</td>\n",
       "    </tr>\n",
       "    <tr>\n",
       "      <th>1</th>\n",
       "      <td>Aklavik</td>\n",
       "      <td>69.782282</td>\n",
       "      <td>-141.846280</td>\n",
       "      <td>35.60</td>\n",
       "      <td>93.0</td>\n",
       "      <td>90.0</td>\n",
       "      <td>13.87</td>\n",
       "      <td>CA</td>\n",
       "      <td>1.599890e+09</td>\n",
       "    </tr>\n",
       "    <tr>\n",
       "      <th>2</th>\n",
       "      <td>Cape Town</td>\n",
       "      <td>-69.301637</td>\n",
       "      <td>-13.693385</td>\n",
       "      <td>57.20</td>\n",
       "      <td>87.0</td>\n",
       "      <td>84.0</td>\n",
       "      <td>2.24</td>\n",
       "      <td>ZA</td>\n",
       "      <td>1.599890e+09</td>\n",
       "    </tr>\n",
       "    <tr>\n",
       "      <th>3</th>\n",
       "      <td>Podgornoye</td>\n",
       "      <td>57.075690</td>\n",
       "      <td>82.834095</td>\n",
       "      <td>53.60</td>\n",
       "      <td>58.0</td>\n",
       "      <td>31.0</td>\n",
       "      <td>6.71</td>\n",
       "      <td>RU</td>\n",
       "      <td>1.599890e+09</td>\n",
       "    </tr>\n",
       "    <tr>\n",
       "      <th>4</th>\n",
       "      <td>Kloulklubed</td>\n",
       "      <td>7.161880</td>\n",
       "      <td>134.039925</td>\n",
       "      <td>82.40</td>\n",
       "      <td>83.0</td>\n",
       "      <td>90.0</td>\n",
       "      <td>8.05</td>\n",
       "      <td>PW</td>\n",
       "      <td>1.599890e+09</td>\n",
       "    </tr>\n",
       "    <tr>\n",
       "      <th>...</th>\n",
       "      <td>...</td>\n",
       "      <td>...</td>\n",
       "      <td>...</td>\n",
       "      <td>...</td>\n",
       "      <td>...</td>\n",
       "      <td>...</td>\n",
       "      <td>...</td>\n",
       "      <td>...</td>\n",
       "      <td>...</td>\n",
       "    </tr>\n",
       "    <tr>\n",
       "      <th>495</th>\n",
       "      <td>Coihaique</td>\n",
       "      <td>-46.032328</td>\n",
       "      <td>-72.121083</td>\n",
       "      <td>37.40</td>\n",
       "      <td>86.0</td>\n",
       "      <td>75.0</td>\n",
       "      <td>4.70</td>\n",
       "      <td>CL</td>\n",
       "      <td>1.599891e+09</td>\n",
       "    </tr>\n",
       "    <tr>\n",
       "      <th>496</th>\n",
       "      <td>Ust-Barguzin</td>\n",
       "      <td>53.449393</td>\n",
       "      <td>108.892341</td>\n",
       "      <td>59.81</td>\n",
       "      <td>82.0</td>\n",
       "      <td>100.0</td>\n",
       "      <td>5.82</td>\n",
       "      <td>RU</td>\n",
       "      <td>1.599891e+09</td>\n",
       "    </tr>\n",
       "    <tr>\n",
       "      <th>497</th>\n",
       "      <td>Urrao</td>\n",
       "      <td>6.097277</td>\n",
       "      <td>-76.396075</td>\n",
       "      <td>55.00</td>\n",
       "      <td>97.0</td>\n",
       "      <td>100.0</td>\n",
       "      <td>1.48</td>\n",
       "      <td>CO</td>\n",
       "      <td>1.599891e+09</td>\n",
       "    </tr>\n",
       "    <tr>\n",
       "      <th>498</th>\n",
       "      <td>Jishou</td>\n",
       "      <td>28.644987</td>\n",
       "      <td>110.160481</td>\n",
       "      <td>69.42</td>\n",
       "      <td>89.0</td>\n",
       "      <td>100.0</td>\n",
       "      <td>5.41</td>\n",
       "      <td>CN</td>\n",
       "      <td>1.599891e+09</td>\n",
       "    </tr>\n",
       "    <tr>\n",
       "      <th>499</th>\n",
       "      <td>Shitanjing</td>\n",
       "      <td>39.741215</td>\n",
       "      <td>105.441309</td>\n",
       "      <td>75.09</td>\n",
       "      <td>31.0</td>\n",
       "      <td>92.0</td>\n",
       "      <td>4.59</td>\n",
       "      <td>CN</td>\n",
       "      <td>1.599891e+09</td>\n",
       "    </tr>\n",
       "  </tbody>\n",
       "</table>\n",
       "<p>459 rows × 9 columns</p>\n",
       "</div>"
      ],
      "text/plain": [
       "             City        Lat         Lng  Max Temp  Humidity  Cloudiness  \\\n",
       "0    Beringovskiy  58.625762  176.203495     47.68      78.0        95.0   \n",
       "1         Aklavik  69.782282 -141.846280     35.60      93.0        90.0   \n",
       "2       Cape Town -69.301637  -13.693385     57.20      87.0        84.0   \n",
       "3      Podgornoye  57.075690   82.834095     53.60      58.0        31.0   \n",
       "4     Kloulklubed   7.161880  134.039925     82.40      83.0        90.0   \n",
       "..            ...        ...         ...       ...       ...         ...   \n",
       "495     Coihaique -46.032328  -72.121083     37.40      86.0        75.0   \n",
       "496  Ust-Barguzin  53.449393  108.892341     59.81      82.0       100.0   \n",
       "497         Urrao   6.097277  -76.396075     55.00      97.0       100.0   \n",
       "498        Jishou  28.644987  110.160481     69.42      89.0       100.0   \n",
       "499    Shitanjing  39.741215  105.441309     75.09      31.0        92.0   \n",
       "\n",
       "     Wind Speed Country          Date  \n",
       "0         19.66      RU  1.599890e+09  \n",
       "1         13.87      CA  1.599890e+09  \n",
       "2          2.24      ZA  1.599890e+09  \n",
       "3          6.71      RU  1.599890e+09  \n",
       "4          8.05      PW  1.599890e+09  \n",
       "..          ...     ...           ...  \n",
       "495        4.70      CL  1.599891e+09  \n",
       "496        5.82      RU  1.599891e+09  \n",
       "497        1.48      CO  1.599891e+09  \n",
       "498        5.41      CN  1.599891e+09  \n",
       "499        4.59      CN  1.599891e+09  \n",
       "\n",
       "[459 rows x 9 columns]"
      ]
     },
     "execution_count": 12,
     "metadata": {},
     "output_type": "execute_result"
    }
   ],
   "source": [
    "# Make a new DataFrame equal to the city data to drop all humidity outliers by index.\n",
    "# Passing \"inplace=False\" will make a copy of the city_data DataFrame, which we call \"clean_city_data\".\n",
    "clean_city_data = cities_df\n",
    "clean_city_data.drop(clean_city_data.iloc[indexes_hum].index, inplace=True)\n",
    "\n",
    "# Drop NA values inserted to handle missing values\n",
    "clean_city_data.dropna(inplace=True)\n",
    "clean_city_data"
   ]
  },
  {
   "cell_type": "code",
   "execution_count": 13,
   "metadata": {},
   "outputs": [
    {
     "data": {
      "text/html": [
       "<div>\n",
       "<style scoped>\n",
       "    .dataframe tbody tr th:only-of-type {\n",
       "        vertical-align: middle;\n",
       "    }\n",
       "\n",
       "    .dataframe tbody tr th {\n",
       "        vertical-align: top;\n",
       "    }\n",
       "\n",
       "    .dataframe thead th {\n",
       "        text-align: right;\n",
       "    }\n",
       "</style>\n",
       "<table border=\"1\" class=\"dataframe\">\n",
       "  <thead>\n",
       "    <tr style=\"text-align: right;\">\n",
       "      <th></th>\n",
       "      <th>Lat</th>\n",
       "      <th>Lng</th>\n",
       "      <th>Max Temp</th>\n",
       "      <th>Humidity</th>\n",
       "      <th>Cloudiness</th>\n",
       "      <th>Wind Speed</th>\n",
       "      <th>Date</th>\n",
       "    </tr>\n",
       "  </thead>\n",
       "  <tbody>\n",
       "    <tr>\n",
       "      <th>count</th>\n",
       "      <td>459.000000</td>\n",
       "      <td>459.000000</td>\n",
       "      <td>459.000000</td>\n",
       "      <td>459.000000</td>\n",
       "      <td>459.000000</td>\n",
       "      <td>459.000000</td>\n",
       "      <td>4.590000e+02</td>\n",
       "    </tr>\n",
       "    <tr>\n",
       "      <th>mean</th>\n",
       "      <td>17.242387</td>\n",
       "      <td>21.543984</td>\n",
       "      <td>66.845599</td>\n",
       "      <td>68.816993</td>\n",
       "      <td>49.464052</td>\n",
       "      <td>7.828867</td>\n",
       "      <td>1.599891e+09</td>\n",
       "    </tr>\n",
       "    <tr>\n",
       "      <th>std</th>\n",
       "      <td>38.457350</td>\n",
       "      <td>93.327956</td>\n",
       "      <td>15.238357</td>\n",
       "      <td>21.521627</td>\n",
       "      <td>38.176394</td>\n",
       "      <td>5.411265</td>\n",
       "      <td>7.193641e+01</td>\n",
       "    </tr>\n",
       "    <tr>\n",
       "      <th>min</th>\n",
       "      <td>-87.181168</td>\n",
       "      <td>-178.872682</td>\n",
       "      <td>26.220000</td>\n",
       "      <td>1.000000</td>\n",
       "      <td>0.000000</td>\n",
       "      <td>0.070000</td>\n",
       "      <td>1.599890e+09</td>\n",
       "    </tr>\n",
       "    <tr>\n",
       "      <th>25%</th>\n",
       "      <td>-8.106223</td>\n",
       "      <td>-56.597324</td>\n",
       "      <td>55.000000</td>\n",
       "      <td>56.000000</td>\n",
       "      <td>8.000000</td>\n",
       "      <td>3.925000</td>\n",
       "      <td>1.599891e+09</td>\n",
       "    </tr>\n",
       "    <tr>\n",
       "      <th>50%</th>\n",
       "      <td>21.059907</td>\n",
       "      <td>27.275407</td>\n",
       "      <td>68.000000</td>\n",
       "      <td>74.000000</td>\n",
       "      <td>42.000000</td>\n",
       "      <td>6.690000</td>\n",
       "      <td>1.599891e+09</td>\n",
       "    </tr>\n",
       "    <tr>\n",
       "      <th>75%</th>\n",
       "      <td>47.889946</td>\n",
       "      <td>104.690194</td>\n",
       "      <td>78.800000</td>\n",
       "      <td>86.000000</td>\n",
       "      <td>90.000000</td>\n",
       "      <td>10.290000</td>\n",
       "      <td>1.599891e+09</td>\n",
       "    </tr>\n",
       "    <tr>\n",
       "      <th>max</th>\n",
       "      <td>88.736579</td>\n",
       "      <td>179.796558</td>\n",
       "      <td>102.510000</td>\n",
       "      <td>100.000000</td>\n",
       "      <td>100.000000</td>\n",
       "      <td>34.230000</td>\n",
       "      <td>1.599891e+09</td>\n",
       "    </tr>\n",
       "  </tbody>\n",
       "</table>\n",
       "</div>"
      ],
      "text/plain": [
       "              Lat         Lng    Max Temp    Humidity  Cloudiness  Wind Speed  \\\n",
       "count  459.000000  459.000000  459.000000  459.000000  459.000000  459.000000   \n",
       "mean    17.242387   21.543984   66.845599   68.816993   49.464052    7.828867   \n",
       "std     38.457350   93.327956   15.238357   21.521627   38.176394    5.411265   \n",
       "min    -87.181168 -178.872682   26.220000    1.000000    0.000000    0.070000   \n",
       "25%     -8.106223  -56.597324   55.000000   56.000000    8.000000    3.925000   \n",
       "50%     21.059907   27.275407   68.000000   74.000000   42.000000    6.690000   \n",
       "75%     47.889946  104.690194   78.800000   86.000000   90.000000   10.290000   \n",
       "max     88.736579  179.796558  102.510000  100.000000  100.000000   34.230000   \n",
       "\n",
       "               Date  \n",
       "count  4.590000e+02  \n",
       "mean   1.599891e+09  \n",
       "std    7.193641e+01  \n",
       "min    1.599890e+09  \n",
       "25%    1.599891e+09  \n",
       "50%    1.599891e+09  \n",
       "75%    1.599891e+09  \n",
       "max    1.599891e+09  "
      ]
     },
     "execution_count": 13,
     "metadata": {},
     "output_type": "execute_result"
    }
   ],
   "source": [
    "clean_city_data.describe()"
   ]
  },
  {
   "cell_type": "code",
   "execution_count": 14,
   "metadata": {},
   "outputs": [],
   "source": [
    "# Convert the time_data_calculation\n",
    "date_rec = pd.to_datetime(clean_city_data['Date'], unit='s')\n",
    "# str(date_rec[1])[:-9]"
   ]
  },
  {
   "cell_type": "markdown",
   "metadata": {},
   "source": [
    "## Plotting the Data\n",
    "* Use proper labeling of the plots using plot titles (including date of analysis) and axes labels.\n",
    "* Save the plotted figures as .pngs."
   ]
  },
  {
   "cell_type": "markdown",
   "metadata": {},
   "source": [
    "## Latitude vs. Temperature Plot"
   ]
  },
  {
   "cell_type": "code",
   "execution_count": 62,
   "metadata": {
    "scrolled": true
   },
   "outputs": [
    {
     "data": {
      "image/png": "[encoded data removed]",
      "text/plain": [
       "<Figure size 432x288 with 1 Axes>"
      ]
     },
     "metadata": {
      "needs_background": "light"
     },
     "output_type": "display_data"
    }
   ],
   "source": [
    "# Plot Latitude vs. Temperature\n",
    "plt.scatter(x=clean_city_data['Lat'], y=cities_df['Max Temp'])\n",
    "plt.grid(True)\n",
    "plt.title('distribution of cities random generated'.title())\n",
    "plt.xlabel('Latitude')\n",
    "plt.ylabel('Max Temperature (F)')\n",
    "plt.title(f\"City Latitude vs. Max Temperature ({str(date_rec[1])[:-9]})\");\n",
    "plt.savefig('data/Fig_1_Lat_vs_Temp.png')"
   ]
  },
  {
   "cell_type": "markdown",
   "metadata": {},
   "source": [
    "## Latitude vs. Humidity Plot"
   ]
  },
  {
   "cell_type": "code",
   "execution_count": 63,
   "metadata": {},
   "outputs": [
    {
     "data": {
      "image/png": "[encoded data removed]",
      "text/plain": [
       "<Figure size 432x288 with 1 Axes>"
      ]
     },
     "metadata": {
      "needs_background": "light"
     },
     "output_type": "display_data"
    }
   ],
   "source": [
    "# Plot Latitude vs. Humidity\n",
    "plt.scatter(x=clean_city_data['Lat'], y=cities_df['Humidity'])\n",
    "plt.grid(True)\n",
    "plt.title('distribution of cities random generated'.title())\n",
    "plt.xlabel('Latitude')\n",
    "plt.ylabel('Humidity (%)')\n",
    "plt.title(f\"City Latitude vs. Humidity ({str(date_rec[1])[:-9]})\");\n",
    "plt.savefig('data/Fig_2_Lat_vs_Hum.png')"
   ]
  },
  {
   "cell_type": "markdown",
   "metadata": {},
   "source": [
    "## Latitude vs. Cloudiness Plot"
   ]
  },
  {
   "cell_type": "code",
   "execution_count": 64,
   "metadata": {},
   "outputs": [
    {
     "data": {
      "image/png": "[encoded data removed]",
      "text/plain": [
       "<Figure size 432x288 with 1 Axes>"
      ]
     },
     "metadata": {
      "needs_background": "light"
     },
     "output_type": "display_data"
    }
   ],
   "source": [
    "# Plot Latitude vs. Humidity\n",
    "plt.scatter(x=clean_city_data['Lat'], y=cities_df['Cloudiness'])\n",
    "plt.grid(True)\n",
    "plt.title('distribution of cities random generated'.title())\n",
    "plt.xlabel('Latitude')\n",
    "plt.ylabel('Cloudiness (%)')\n",
    "plt.title(f\"City Latitude vs. Cloudiness ({str(date_rec[1])[:-9]})\");\n",
    "plt.savefig('data/Fig_3_Lat_vs_Cloudiness.png')"
   ]
  },
  {
   "cell_type": "markdown",
   "metadata": {},
   "source": [
    "## Latitude vs. Wind Speed Plot"
   ]
  },
  {
   "cell_type": "code",
   "execution_count": 65,
   "metadata": {},
   "outputs": [
    {
     "data": {
      "image/png": "[encoded data removed]",
      "text/plain": [
       "<Figure size 432x288 with 1 Axes>"
      ]
     },
     "metadata": {
      "needs_background": "light"
     },
     "output_type": "display_data"
    }
   ],
   "source": [
    "# Plot Latitude vs. Humidity\n",
    "plt.scatter(x=clean_city_data['Lat'], y=cities_df['Wind Speed'])\n",
    "plt.grid(True)\n",
    "plt.title('distribution of cities random generated'.title())\n",
    "plt.xlabel('Latitude')\n",
    "plt.ylabel('Wind Speed (mph)')\n",
    "plt.title(f\"City Latitude vs. Wind Speed ({str(date_rec[1])[:-9]})\");\n",
    "plt.savefig('data/Fig_4_Lat_vs_Wind.png')"
   ]
  },
  {
   "cell_type": "markdown",
   "metadata": {},
   "source": [
    "## Linear Regression"
   ]
  },
  {
   "cell_type": "code",
   "execution_count": null,
   "metadata": {},
   "outputs": [],
   "source": []
  },
  {
   "cell_type": "markdown",
   "metadata": {},
   "source": [
    "####  Northern Hemisphere - Max Temp vs. Latitude Linear Regression"
   ]
  },
  {
   "cell_type": "code",
   "execution_count": 66,
   "metadata": {},
   "outputs": [],
   "source": [
    "x_values = np.array(clean_city_data['Lat'].loc[clean_city_data['Lat']>0])\n",
    "y_values = np.array(clean_city_data['Max Temp'].loc[clean_city_data['Lat']>0])\n",
    "\n",
    "# Run the regression and store each of the returned values\n",
    "slope, intercept, rvalue, pvalue, stderr = linregress(x_values, y_values)\n",
    "\n",
    "# Calculate the predictions for each value of x\n",
    "regression_values = x_values * slope + intercept\n",
    "\n",
    "# store a string version of the linear equation, so we can display it on the plot\n",
    "line_eq = \"y = \" + str(round(slope,2)) + \"x + \" + str(round(intercept,2))"
   ]
  },
  {
   "cell_type": "code",
   "execution_count": 67,
   "metadata": {},
   "outputs": [
    {
     "name": "stdout",
     "output_type": "stream",
     "text": [
      "The r-squared is: 0.5503181391569135\n"
     ]
    },
    {
     "data": {
      "image/png": "[encoded data removed]",
      "text/plain": [
       "<Figure size 432x288 with 1 Axes>"
      ]
     },
     "metadata": {
      "needs_background": "light"
     },
     "output_type": "display_data"
    }
   ],
   "source": [
    "# plt.figure(figsize=(15,6))\n",
    "\n",
    "plt.scatter(x=x_values, y=y_values)\n",
    "\n",
    "# Plot the regression line\n",
    "plt.plot(x_values, regression_values, \"red\")\n",
    "\n",
    "# Annotate the plot with the linear equation\n",
    "plt.annotate(line_eq, (22, 25), fontsize=15, color=\"red\")\n",
    "\n",
    "\n",
    "plt.title('distribution of cities random generated'.title())\n",
    "plt.xlabel('Latitude')\n",
    "plt.ylabel('Max Temperature (F)')\n",
    "plt.title(f\"City Latitude vs. Max Temperature ({str(date_rec[1])[:-9]})\");\n",
    "print(f\"The r-squared is: {rvalue**2}\")\n",
    "plt.show()"
   ]
  },
  {
   "cell_type": "markdown",
   "metadata": {},
   "source": [
    "####  Southern Hemisphere - Max Temp vs. Latitude Linear Regression"
   ]
  },
  {
   "cell_type": "code",
   "execution_count": 68,
   "metadata": {},
   "outputs": [],
   "source": [
    "x_values = np.array(clean_city_data['Lat'].loc[clean_city_data['Lat']<0])\n",
    "y_values = np.array(clean_city_data['Max Temp'].loc[clean_city_data['Lat']<0])\n",
    "\n",
    "# Run the regression and store each of the returned values\n",
    "slope, intercept, rvalue, pvalue, stderr = linregress(x_values, y_values)\n",
    "\n",
    "# Calculate the predictions for each value of x\n",
    "regression_values = x_values * slope + intercept\n",
    "\n",
    "# store a string version of the linear equation, so we can display it on the plot\n",
    "line_eq = \"y = \" + str(round(slope,2)) + \"x + \" + str(round(intercept,2))"
   ]
  },
  {
   "cell_type": "code",
   "execution_count": 69,
   "metadata": {},
   "outputs": [
    {
     "name": "stdout",
     "output_type": "stream",
     "text": [
      "The r-squared is: 0.27827924299357687\n"
     ]
    },
    {
     "data": {
      "image/png": "[encoded data removed]",
      "text/plain": [
       "<Figure size 432x288 with 1 Axes>"
      ]
     },
     "metadata": {
      "needs_background": "light"
     },
     "output_type": "display_data"
    }
   ],
   "source": [
    "# plt.figure(figsize=(15,6))\n",
    "\n",
    "plt.scatter(x=x_values, y=y_values)\n",
    "\n",
    "# Plot the regression line\n",
    "plt.plot(x_values, regression_values, \"red\")\n",
    "\n",
    "# Annotate the plot with the linear equation\n",
    "plt.annotate(line_eq, (-82, 85), fontsize=15, color=\"red\")\n",
    "\n",
    "\n",
    "plt.title('distribution of cities random generated'.title())\n",
    "plt.xlabel('Latitude')\n",
    "plt.ylabel('Max Temperature (F)')\n",
    "plt.title(f\"City Latitude vs. Max Temperature ({str(date_rec[1])[:-9]})\");\n",
    "print(f\"The r-squared is: {rvalue**2}\")\n",
    "plt.show()"
   ]
  },
  {
   "cell_type": "markdown",
   "metadata": {},
   "source": [
    "####  Northern Hemisphere - Humidity (%) vs. Latitude Linear Regression"
   ]
  },
  {
   "cell_type": "code",
   "execution_count": 70,
   "metadata": {},
   "outputs": [],
   "source": [
    "x_values = np.array(clean_city_data['Lat'].loc[clean_city_data['Lat']>0])\n",
    "y_values = np.array(clean_city_data['Humidity'].loc[clean_city_data['Lat']>0])\n",
    "\n",
    "# Run the regression and store each of the returned values\n",
    "slope, intercept, rvalue, pvalue, stderr = linregress(x_values, y_values)\n",
    "\n",
    "# Calculate the predictions for each value of x\n",
    "regression_values = x_values * slope + intercept\n",
    "\n",
    "# store a string version of the linear equation, so we can display it on the plot\n",
    "line_eq = \"y = \" + str(round(slope,2)) + \"x + \" + str(round(intercept,2))"
   ]
  },
  {
   "cell_type": "code",
   "execution_count": 71,
   "metadata": {},
   "outputs": [
    {
     "name": "stdout",
     "output_type": "stream",
     "text": [
      "The r-squared is: 0.008289921544018504\n"
     ]
    },
    {
     "data": {
      "image/png": "[encoded data removed]",
      "text/plain": [
       "<Figure size 432x288 with 1 Axes>"
      ]
     },
     "metadata": {
      "needs_background": "light"
     },
     "output_type": "display_data"
    }
   ],
   "source": [
    "# plt.figure(figsize=(15,6))\n",
    "\n",
    "plt.scatter(x=x_values, y=y_values)\n",
    "\n",
    "# Plot the regression line\n",
    "plt.plot(x_values, regression_values, \"red\")\n",
    "\n",
    "# Annotate the plot with the linear equation\n",
    "plt.annotate(line_eq, (22, 5), fontsize=15, color=\"red\")\n",
    "\n",
    "\n",
    "plt.title('distribution of cities random generated'.title())\n",
    "plt.xlabel('Latitude')\n",
    "plt.ylabel('Humidity (%)')\n",
    "plt.title(f\"City Latitude vs. Humidity ({str(date_rec[1])[:-9]})\");\n",
    "print(f\"The r-squared is: {rvalue**2}\")\n",
    "plt.show()"
   ]
  },
  {
   "cell_type": "markdown",
   "metadata": {},
   "source": [
    "####  Southern Hemisphere - Humidity (%) vs. Latitude Linear Regression"
   ]
  },
  {
   "cell_type": "code",
   "execution_count": 72,
   "metadata": {},
   "outputs": [],
   "source": [
    "x_values = np.array(clean_city_data['Lat'].loc[clean_city_data['Lat']<0])\n",
    "y_values = np.array(clean_city_data['Humidity'].loc[clean_city_data['Lat']<0])\n",
    "\n",
    "# Run the regression and store each of the returned values\n",
    "slope, intercept, rvalue, pvalue, stderr = linregress(x_values, y_values)\n",
    "\n",
    "# Calculate the predictions for each value of x\n",
    "regression_values = x_values * slope + intercept\n",
    "\n",
    "# store a string version of the linear equation, so we can display it on the plot\n",
    "line_eq = \"y = \" + str(round(slope,2)) + \"x + \" + str(round(intercept,2))"
   ]
  },
  {
   "cell_type": "code",
   "execution_count": 73,
   "metadata": {},
   "outputs": [
    {
     "name": "stdout",
     "output_type": "stream",
     "text": [
      "The r-squared is: 0.0005012226942282192\n"
     ]
    },
    {
     "data": {
      "image/png": "[encoded data removed]",
      "text/plain": [
       "<Figure size 432x288 with 1 Axes>"
      ]
     },
     "metadata": {
      "needs_background": "light"
     },
     "output_type": "display_data"
    }
   ],
   "source": [
    "# plt.figure(figsize=(15,6))\n",
    "\n",
    "plt.scatter(x=x_values, y=y_values)\n",
    "\n",
    "# Plot the regression line\n",
    "plt.plot(x_values, regression_values, \"red\")\n",
    "\n",
    "# Annotate the plot with the linear equation\n",
    "plt.annotate(line_eq, (-82, 15), fontsize=15, color=\"red\")\n",
    "\n",
    "\n",
    "plt.title('distribution of cities random generated'.title())\n",
    "plt.xlabel('Latitude')\n",
    "plt.ylabel('Humidity (%)')\n",
    "plt.title(f\"City Latitude vs. Humidity ({str(date_rec[1])[:-9]})\");\n",
    "print(f\"The r-squared is: {rvalue**2}\")\n",
    "plt.show()"
   ]
  },
  {
   "cell_type": "markdown",
   "metadata": {},
   "source": [
    "####  Northern Hemisphere - Cloudiness (%) vs. Latitude Linear Regression"
   ]
  },
  {
   "cell_type": "code",
   "execution_count": 74,
   "metadata": {},
   "outputs": [],
   "source": [
    "x_values = np.array(clean_city_data['Lat'].loc[clean_city_data['Lat']>0])\n",
    "y_values = np.array(clean_city_data['Cloudiness'].loc[clean_city_data['Lat']>0])\n",
    "\n",
    "# Run the regression and store each of the returned values\n",
    "slope, intercept, rvalue, pvalue, stderr = linregress(x_values, y_values)\n",
    "\n",
    "# Calculate the predictions for each value of x\n",
    "regression_values = x_values * slope + intercept\n",
    "\n",
    "# store a string version of the linear equation, so we can display it on the plot\n",
    "line_eq = \"y = \" + str(round(slope,2)) + \"x + \" + str(round(intercept,2))"
   ]
  },
  {
   "cell_type": "code",
   "execution_count": 75,
   "metadata": {},
   "outputs": [
    {
     "name": "stdout",
     "output_type": "stream",
     "text": [
      "The r-squared is: 0.004215807953098\n"
     ]
    },
    {
     "data": {
      "image/png": "[encoded data removed]",
      "text/plain": [
       "<Figure size 432x288 with 1 Axes>"
      ]
     },
     "metadata": {
      "needs_background": "light"
     },
     "output_type": "display_data"
    }
   ],
   "source": [
    "# plt.figure(figsize=(15,6))\n",
    "\n",
    "plt.scatter(x=x_values, y=y_values)\n",
    "\n",
    "# Plot the regression line\n",
    "plt.plot(x_values, regression_values, \"red\")\n",
    "\n",
    "# Annotate the plot with the linear equation\n",
    "plt.annotate(line_eq, (22, 42), fontsize=15, color=\"red\")\n",
    "\n",
    "\n",
    "plt.title('distribution of cities random generated'.title())\n",
    "plt.xlabel('Latitude')\n",
    "plt.ylabel('Cloudiness (%)')\n",
    "plt.title(f\"City Latitude vs. Cloudiness ({str(date_rec[1])[:-9]})\");\n",
    "print(f\"The r-squared is: {rvalue**2}\")\n",
    "plt.show()"
   ]
  },
  {
   "cell_type": "markdown",
   "metadata": {},
   "source": [
    "####  Southern Hemisphere - Cloudiness (%) vs. Latitude Linear Regression"
   ]
  },
  {
   "cell_type": "code",
   "execution_count": 76,
   "metadata": {},
   "outputs": [],
   "source": [
    "x_values = np.array(clean_city_data['Lat'].loc[clean_city_data['Lat']<0])\n",
    "y_values = np.array(clean_city_data['Cloudiness'].loc[clean_city_data['Lat']<0])\n",
    "\n",
    "# Run the regression and store each of the returned values\n",
    "slope, intercept, rvalue, pvalue, stderr = linregress(x_values, y_values)\n",
    "\n",
    "# Calculate the predictions for each value of x\n",
    "regression_values = x_values * slope + intercept\n",
    "\n",
    "# store a string version of the linear equation, so we can display it on the plot\n",
    "line_eq = \"y = \" + str(round(slope,2)) + \"x + \" + str(round(intercept,2))"
   ]
  },
  {
   "cell_type": "code",
   "execution_count": 77,
   "metadata": {},
   "outputs": [
    {
     "name": "stdout",
     "output_type": "stream",
     "text": [
      "The r-squared is: 0.030365677779373244\n"
     ]
    },
    {
     "data": {
      "image/png": "[encoded data removed]",
      "text/plain": [
       "<Figure size 432x288 with 1 Axes>"
      ]
     },
     "metadata": {
      "needs_background": "light"
     },
     "output_type": "display_data"
    }
   ],
   "source": [
    "# plt.figure(figsize=(15,6))\n",
    "\n",
    "plt.scatter(x=x_values, y=y_values)\n",
    "\n",
    "# Plot the regression line\n",
    "plt.plot(x_values, regression_values, \"red\")\n",
    "\n",
    "# Annotate the plot with the linear equation\n",
    "plt.annotate(line_eq, (-82, 42), fontsize=15, color=\"red\")\n",
    "\n",
    "\n",
    "plt.title('distribution of cities random generated'.title())\n",
    "plt.xlabel('Latitude')\n",
    "plt.ylabel('Cloudiness (%)')\n",
    "plt.title(f\"City Latitude vs. Cloudiness ({str(date_rec[1])[:-9]})\");\n",
    "print(f\"The r-squared is: {rvalue**2}\")\n",
    "plt.show()"
   ]
  },
  {
   "cell_type": "markdown",
   "metadata": {},
   "source": [
    "####  Northern Hemisphere - Wind Speed (mph) vs. Latitude Linear Regression"
   ]
  },
  {
   "cell_type": "code",
   "execution_count": 78,
   "metadata": {},
   "outputs": [],
   "source": [
    "x_values = np.array(clean_city_data['Lat'].loc[clean_city_data['Lat']>0])\n",
    "y_values = np.array(clean_city_data['Wind Speed'].loc[clean_city_data['Lat']>0])\n",
    "\n",
    "# Run the regression and store each of the returned values\n",
    "slope, intercept, rvalue, pvalue, stderr = linregress(x_values, y_values)\n",
    "\n",
    "# Calculate the predictions for each value of x\n",
    "regression_values = x_values * slope + intercept\n",
    "\n",
    "# store a string version of the linear equation, so we can display it on the plot\n",
    "line_eq = \"y = \" + str(round(slope,2)) + \"x + \" + str(round(intercept,2))"
   ]
  },
  {
   "cell_type": "code",
   "execution_count": 79,
   "metadata": {},
   "outputs": [
    {
     "name": "stdout",
     "output_type": "stream",
     "text": [
      "The r-squared is: 0.009697720010209122\n"
     ]
    },
    {
     "data": {
      "image/png": "[encoded data removed]",
      "text/plain": [
       "<Figure size 432x288 with 1 Axes>"
      ]
     },
     "metadata": {
      "needs_background": "light"
     },
     "output_type": "display_data"
    }
   ],
   "source": [
    "# plt.figure(figsize=(15,6))\n",
    "\n",
    "plt.scatter(x=x_values, y=y_values)\n",
    "\n",
    "# Plot the regression line\n",
    "plt.plot(x_values, regression_values, \"red\")\n",
    "\n",
    "# Annotate the plot with the linear equation\n",
    "plt.annotate(line_eq, (22, 22), fontsize=15, color=\"red\")\n",
    "\n",
    "\n",
    "plt.title('distribution of cities random generated'.title())\n",
    "plt.xlabel('Latitude')\n",
    "plt.ylabel('Wind Speed (mph)')\n",
    "plt.title(f\"City Latitude vs. Wind Speed ({str(date_rec[1])[:-9]})\");\n",
    "print(f\"The r-squared is: {rvalue**2}\")\n",
    "plt.show()"
   ]
  },
  {
   "cell_type": "markdown",
   "metadata": {},
   "source": [
    "####  Southern Hemisphere - Wind Speed (mph) vs. Latitude Linear Regression"
   ]
  },
  {
   "cell_type": "code",
   "execution_count": 80,
   "metadata": {},
   "outputs": [],
   "source": [
    "x_values = np.array(clean_city_data['Lat'].loc[clean_city_data['Lat']<0])\n",
    "y_values = np.array(clean_city_data['Wind Speed'].loc[clean_city_data['Lat']<0])\n",
    "\n",
    "# Run the regression and store each of the returned values\n",
    "slope, intercept, rvalue, pvalue, stderr = linregress(x_values, y_values)\n",
    "\n",
    "# Calculate the predictions for each value of x\n",
    "regression_values = x_values * slope + intercept\n",
    "\n",
    "# store a string version of the linear equation, so we can display it on the plot\n",
    "line_eq = \"y = \" + str(round(slope,2)) + \"x + \" + str(round(intercept,2))"
   ]
  },
  {
   "cell_type": "code",
   "execution_count": 81,
   "metadata": {},
   "outputs": [
    {
     "name": "stdout",
     "output_type": "stream",
     "text": [
      "The r-squared is: 0.011461808394775782\n"
     ]
    },
    {
     "data": {
      "image/png": "[encoded data removed]",
      "text/plain": [
       "<Figure size 432x288 with 1 Axes>"
      ]
     },
     "metadata": {
      "needs_background": "light"
     },
     "output_type": "display_data"
    }
   ],
   "source": [
    "# plt.figure(figsize=(15,6))\n",
    "\n",
    "plt.scatter(x=x_values, y=y_values)\n",
    "\n",
    "# Plot the regression line\n",
    "plt.plot(x_values, regression_values, \"red\")\n",
    "\n",
    "# Annotate the plot with the linear equation\n",
    "plt.annotate(line_eq, (-75, 22), fontsize=15, color=\"red\")\n",
    "\n",
    "\n",
    "plt.title('distribution of cities random generated'.title())\n",
    "plt.xlabel('Latitude')\n",
    "plt.ylabel('Wind Speed (mph)')\n",
    "plt.title(f\"City Latitude vs. Wind Speed ({str(date_rec[1])[:-9]})\");\n",
    "print(f\"The r-squared is: {rvalue**2}\")\n",
    "plt.show()"
   ]
  },
  {
   "cell_type": "code",
   "execution_count": null,
   "metadata": {},
   "outputs": [],
   "source": []
  }
 ],
 "metadata": {
  "anaconda-cloud": {},
  "kernel_info": {
   "name": "python3"
  },
  "kernelspec": {
   "display_name": "Python 3",
   "language": "python",
   "name": "python3"
  },
  "language_info": {
   "codemirror_mode": {
    "name": "ipython",
    "version": 3
   },
   "file_extension": ".py",
   "mimetype": "text/x-python",
   "name": "python",
   "nbconvert_exporter": "python",
   "pygments_lexer": "ipython3",
   "version": "3.7.6"
  },
  "latex_envs": {
   "LaTeX_envs_menu_present": true,
   "autoclose": false,
   "autocomplete": true,
   "bibliofile": "biblio.bib",
   "cite_by": "apalike",
   "current_citInitial": 1,
   "eqLabelWithNumbers": true,
   "eqNumInitial": 1,
   "hotkeys": {
    "equation": "Ctrl-E",
    "itemize": "Ctrl-I"
   },
   "labels_anchors": false,
   "latex_user_defs": false,
   "report_style_numbering": false,
   "user_envs_cfg": false
  },
  "nteract": {
   "version": "0.12.3"
  }
 },
 "nbformat": 4,
 "nbformat_minor": 2
}
